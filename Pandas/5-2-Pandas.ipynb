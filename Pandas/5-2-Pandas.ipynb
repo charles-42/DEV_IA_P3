{
 "cells": [
  {
   "cell_type": "markdown",
   "metadata": {},
   "source": [
    "# 1. Importer et découvrir un dataframe"
   ]
  },
  {
   "cell_type": "markdown",
   "metadata": {},
   "source": [
    "Les deux premières choses à faire avec Pandas sont: \n",
    "- de l'installer: pip install pandas dans un terminal\n",
    "- de l'importer: import pandas as pd dans une cellule\n",
    "\n",
    "\n",
    "Vous ne devrez l'installer qu'une seule fois sur votre ordinateur, il faudra en revanche l'importer à chaque fois"
   ]
  },
  {
   "cell_type": "code",
   "execution_count": 1,
   "metadata": {},
   "outputs": [],
   "source": [
    "import pandas as pd"
   ]
  },
  {
   "cell_type": "markdown",
   "metadata": {},
   "source": [
    "## Créer un dataframe et l'afficher"
   ]
  },
  {
   "cell_type": "markdown",
   "metadata": {},
   "source": [
    "Nous avons dit que l'objet que nous allons utiliser est principalement le dataframe qui est de dimension 2 (lignes et colonnes)"
   ]
  },
  {
   "cell_type": "markdown",
   "metadata": {},
   "source": [
    "On peut le créer directement \"à la main\""
   ]
  },
  {
   "cell_type": "code",
   "execution_count": 2,
   "metadata": {},
   "outputs": [],
   "source": [
    "df = pd.DataFrame({\n",
    "    \"nom\": [\"Bernard\", \"Aline\", \"Fred\"], \n",
    "    \"age\": [38, 24, 46],\n",
    "    \"taille\": [1.82,1.75,1.64],\n",
    "    \"derniere_mise_a_jour\": [pd.Timestamp(\"20220102\"),pd.Timestamp(\"20220308\"),pd.Timestamp(\"20220811\")],\n",
    "    \"logiciel\": [[\"Excel\",\"Pandas\"],[\"Excel\"],[\"Pandas\"]],\n",
    "    \"Male\":[True,False,True]\n",
    "    })\n",
    "\n"
   ]
  },
  {
   "cell_type": "markdown",
   "metadata": {},
   "source": [
    "On appelle souvent les tableaux \"df\" pour dataframe mais rien ne nous empêche de lui donner le nom que l'on veut\n",
    "On a même vu qu'avec la Pep8, il vaut mieux donner des noms parlant à nos objets."
   ]
  },
  {
   "cell_type": "markdown",
   "metadata": {},
   "source": [
    "On a créé notre tableau mais rien ne s'est passé, pour l'afficher il faut simplement appeler le dataframe:"
   ]
  },
  {
   "cell_type": "code",
   "execution_count": 6,
   "metadata": {},
   "outputs": [
    {
     "data": {
      "text/html": [
       "<div>\n",
       "<style scoped>\n",
       "    .dataframe tbody tr th:only-of-type {\n",
       "        vertical-align: middle;\n",
       "    }\n",
       "\n",
       "    .dataframe tbody tr th {\n",
       "        vertical-align: top;\n",
       "    }\n",
       "\n",
       "    .dataframe thead th {\n",
       "        text-align: right;\n",
       "    }\n",
       "</style>\n",
       "<table border=\"1\" class=\"dataframe\">\n",
       "  <thead>\n",
       "    <tr style=\"text-align: right;\">\n",
       "      <th></th>\n",
       "      <th>nom</th>\n",
       "      <th>age</th>\n",
       "      <th>taille</th>\n",
       "      <th>derniere_mise_a_jour</th>\n",
       "      <th>logiciel</th>\n",
       "      <th>Male</th>\n",
       "    </tr>\n",
       "  </thead>\n",
       "  <tbody>\n",
       "    <tr>\n",
       "      <th>0</th>\n",
       "      <td>Bernard</td>\n",
       "      <td>38</td>\n",
       "      <td>1.82</td>\n",
       "      <td>2022-01-02</td>\n",
       "      <td>[Excel, Pandas]</td>\n",
       "      <td>True</td>\n",
       "    </tr>\n",
       "    <tr>\n",
       "      <th>1</th>\n",
       "      <td>Aline</td>\n",
       "      <td>24</td>\n",
       "      <td>1.75</td>\n",
       "      <td>2022-03-08</td>\n",
       "      <td>[Excel]</td>\n",
       "      <td>False</td>\n",
       "    </tr>\n",
       "    <tr>\n",
       "      <th>2</th>\n",
       "      <td>Fred</td>\n",
       "      <td>46</td>\n",
       "      <td>1.64</td>\n",
       "      <td>2022-08-11</td>\n",
       "      <td>[Pandas]</td>\n",
       "      <td>True</td>\n",
       "    </tr>\n",
       "  </tbody>\n",
       "</table>\n",
       "</div>"
      ],
      "text/plain": [
       "       nom  age  taille derniere_mise_a_jour         logiciel   Male\n",
       "0  Bernard   38    1.82           2022-01-02  [Excel, Pandas]   True\n",
       "1    Aline   24    1.75           2022-03-08          [Excel]  False\n",
       "2     Fred   46    1.64           2022-08-11         [Pandas]   True"
      ]
     },
     "execution_count": 6,
     "metadata": {},
     "output_type": "execute_result"
    }
   ],
   "source": [
    "df"
   ]
  },
  {
   "cell_type": "code",
   "execution_count": 8,
   "metadata": {},
   "outputs": [
    {
     "name": "stdout",
     "output_type": "stream",
     "text": [
      "<class 'pandas.core.frame.DataFrame'>\n",
      "RangeIndex: 3 entries, 0 to 2\n",
      "Data columns (total 6 columns):\n",
      " #   Column                Non-Null Count  Dtype         \n",
      "---  ------                --------------  -----         \n",
      " 0   nom                   3 non-null      object        \n",
      " 1   age                   3 non-null      int64         \n",
      " 2   taille                3 non-null      float64       \n",
      " 3   derniere_mise_a_jour  3 non-null      datetime64[ns]\n",
      " 4   logiciel              3 non-null      object        \n",
      " 5   Male                  3 non-null      bool          \n",
      "dtypes: bool(1), datetime64[ns](1), float64(1), int64(1), object(2)\n",
      "memory usage: 251.0+ bytes\n"
     ]
    }
   ],
   "source": [
    "df.info()"
   ]
  },
  {
   "cell_type": "markdown",
   "metadata": {},
   "source": [
    "On peut voir qu'un tableau peut contenir des données de plusieurs types, on peut obtenir ces types à l'aide de cette commande"
   ]
  },
  {
   "cell_type": "code",
   "execution_count": 5,
   "metadata": {},
   "outputs": [
    {
     "data": {
      "text/plain": [
       "nom                             object\n",
       "age                              int64\n",
       "taille                         float64\n",
       "derniere_mise_a_jour    datetime64[ns]\n",
       "logiciel                        object\n",
       "Male                              bool\n",
       "dtype: object"
      ]
     },
     "execution_count": 5,
     "metadata": {},
     "output_type": "execute_result"
    }
   ],
   "source": [
    "df.dtypes"
   ]
  },
  {
   "cell_type": "markdown",
   "metadata": {},
   "source": [
    "Cependant la plupart du temps on travaille avec des bases de données qui existent déja et qu'il faut importer.\n",
    "Le format le plus facile pour importer des données est le format CSV (comma separated values).\n",
    "Cependant il existe plusieurs types de CSV, le standard qu'on vous conseille d'utiliser est celui où chaque colonne est séparée par une virgule, chaque ligne par un retour à la ligne. Les nombres à virgule sont donc dans ce standard écrits avec des points.\n",
    "\n",
    "Quand ces règles sont respectées, l'import est aussi simple que cela:"
   ]
  },
  {
   "cell_type": "markdown",
   "metadata": {},
   "source": [
    "## Importer un dataframe"
   ]
  },
  {
   "cell_type": "code",
   "execution_count": 76,
   "metadata": {},
   "outputs": [
    {
     "name": "stderr",
     "output_type": "stream",
     "text": [
      "/var/folders/py/4rt338cj1ks4z3332m7l3f880000gp/T/ipykernel_70623/1119183766.py:2: DtypeWarning: Columns (25) have mixed types. Specify dtype option on import or set low_memory=False.\n",
      "  df_air_bnb = pd.read_csv(\"data/Airbnb_Open_Data.csv\")\n"
     ]
    }
   ],
   "source": [
    "# On utilise la fonction read_csv et on indique le chemin relatif\n",
    "df_air_bnb = pd.read_csv(\"data/Airbnb_Open_Data.csv\")"
   ]
  },
  {
   "cell_type": "markdown",
   "metadata": {},
   "source": [
    "Cependant si on regarde la [documentation](https://pandas.pydata.org/docs/user_guide/io.html), on voit que:\n",
    "- On peut importer depuis une multitude de format: text, excel, json, xml, sql....\n",
    "- On peut modifier des paramètres de la fonction: \n",
    "    - sep : le séparateur de colonne\n",
    "    - delimiter : le séparateur de lignes\n",
    "    - header : pour désigner la ligne qui contient les noms de colonnes\n",
    "    "
   ]
  },
  {
   "cell_type": "markdown",
   "metadata": {},
   "source": [
    "Une fois un fichier importé, il est important d'obtenir quelques informations essentielles:"
   ]
  },
  {
   "cell_type": "markdown",
   "metadata": {},
   "source": [
    "Le nombre de lignes et de colonnes:"
   ]
  },
  {
   "cell_type": "code",
   "execution_count": 11,
   "metadata": {},
   "outputs": [
    {
     "data": {
      "text/plain": [
       "(102599, 26)"
      ]
     },
     "execution_count": 11,
     "metadata": {},
     "output_type": "execute_result"
    }
   ],
   "source": [
    "df_air_bnb.shape"
   ]
  },
  {
   "cell_type": "markdown",
   "metadata": {},
   "source": [
    "Le type de chaque colonne comme nous l'avons déja vu:"
   ]
  },
  {
   "cell_type": "code",
   "execution_count": 12,
   "metadata": {},
   "outputs": [
    {
     "data": {
      "text/plain": [
       "id                                  int64\n",
       "NAME                               object\n",
       "host id                             int64\n",
       "host_identity_verified             object\n",
       "host name                          object\n",
       "neighbourhood group                object\n",
       "neighbourhood                      object\n",
       "lat                               float64\n",
       "long                              float64\n",
       "country                            object\n",
       "country code                       object\n",
       "instant_bookable                   object\n",
       "cancellation_policy                object\n",
       "room type                          object\n",
       "Construction year                 float64\n",
       "price                              object\n",
       "service fee                        object\n",
       "minimum nights                    float64\n",
       "number of reviews                 float64\n",
       "last review                        object\n",
       "reviews per month                 float64\n",
       "review rate number                float64\n",
       "calculated host listings count    float64\n",
       "availability 365                  float64\n",
       "house_rules                        object\n",
       "license                            object\n",
       "dtype: object"
      ]
     },
     "execution_count": 12,
     "metadata": {},
     "output_type": "execute_result"
    }
   ],
   "source": [
    "df_air_bnb.dtypes"
   ]
  },
  {
   "cell_type": "markdown",
   "metadata": {},
   "source": [
    "Etant donné la taille de la table, ce serait inutile de tout afficher, et aussi beaucoup trop lourd. C'est cependant souvent utile d'avoir un aperçu de la table. On va afficher donc le début ou la fin de la table comme cela:"
   ]
  },
  {
   "cell_type": "code",
   "execution_count": 13,
   "metadata": {},
   "outputs": [
    {
     "data": {
      "text/html": [
       "<div>\n",
       "<style scoped>\n",
       "    .dataframe tbody tr th:only-of-type {\n",
       "        vertical-align: middle;\n",
       "    }\n",
       "\n",
       "    .dataframe tbody tr th {\n",
       "        vertical-align: top;\n",
       "    }\n",
       "\n",
       "    .dataframe thead th {\n",
       "        text-align: right;\n",
       "    }\n",
       "</style>\n",
       "<table border=\"1\" class=\"dataframe\">\n",
       "  <thead>\n",
       "    <tr style=\"text-align: right;\">\n",
       "      <th></th>\n",
       "      <th>id</th>\n",
       "      <th>NAME</th>\n",
       "      <th>host id</th>\n",
       "      <th>host_identity_verified</th>\n",
       "      <th>host name</th>\n",
       "      <th>neighbourhood group</th>\n",
       "      <th>neighbourhood</th>\n",
       "      <th>lat</th>\n",
       "      <th>long</th>\n",
       "      <th>country</th>\n",
       "      <th>...</th>\n",
       "      <th>service fee</th>\n",
       "      <th>minimum nights</th>\n",
       "      <th>number of reviews</th>\n",
       "      <th>last review</th>\n",
       "      <th>reviews per month</th>\n",
       "      <th>review rate number</th>\n",
       "      <th>calculated host listings count</th>\n",
       "      <th>availability 365</th>\n",
       "      <th>house_rules</th>\n",
       "      <th>license</th>\n",
       "    </tr>\n",
       "  </thead>\n",
       "  <tbody>\n",
       "    <tr>\n",
       "      <th>0</th>\n",
       "      <td>1001254</td>\n",
       "      <td>Clean &amp; quiet apt home by the park</td>\n",
       "      <td>80014485718</td>\n",
       "      <td>unconfirmed</td>\n",
       "      <td>Madaline</td>\n",
       "      <td>Brooklyn</td>\n",
       "      <td>Kensington</td>\n",
       "      <td>40.64749</td>\n",
       "      <td>-73.97237</td>\n",
       "      <td>United States</td>\n",
       "      <td>...</td>\n",
       "      <td>$193</td>\n",
       "      <td>10.0</td>\n",
       "      <td>9.0</td>\n",
       "      <td>10/19/2021</td>\n",
       "      <td>0.21</td>\n",
       "      <td>4.0</td>\n",
       "      <td>6.0</td>\n",
       "      <td>286.0</td>\n",
       "      <td>Clean up and treat the home the way you'd like...</td>\n",
       "      <td>NaN</td>\n",
       "    </tr>\n",
       "    <tr>\n",
       "      <th>1</th>\n",
       "      <td>1002102</td>\n",
       "      <td>Skylit Midtown Castle</td>\n",
       "      <td>52335172823</td>\n",
       "      <td>verified</td>\n",
       "      <td>Jenna</td>\n",
       "      <td>Manhattan</td>\n",
       "      <td>Midtown</td>\n",
       "      <td>40.75362</td>\n",
       "      <td>-73.98377</td>\n",
       "      <td>United States</td>\n",
       "      <td>...</td>\n",
       "      <td>$28</td>\n",
       "      <td>30.0</td>\n",
       "      <td>45.0</td>\n",
       "      <td>5/21/2022</td>\n",
       "      <td>0.38</td>\n",
       "      <td>4.0</td>\n",
       "      <td>2.0</td>\n",
       "      <td>228.0</td>\n",
       "      <td>Pet friendly but please confirm with me if the...</td>\n",
       "      <td>NaN</td>\n",
       "    </tr>\n",
       "    <tr>\n",
       "      <th>2</th>\n",
       "      <td>1002403</td>\n",
       "      <td>THE VILLAGE OF HARLEM....NEW YORK !</td>\n",
       "      <td>78829239556</td>\n",
       "      <td>NaN</td>\n",
       "      <td>Elise</td>\n",
       "      <td>Manhattan</td>\n",
       "      <td>Harlem</td>\n",
       "      <td>40.80902</td>\n",
       "      <td>-73.94190</td>\n",
       "      <td>United States</td>\n",
       "      <td>...</td>\n",
       "      <td>$124</td>\n",
       "      <td>3.0</td>\n",
       "      <td>0.0</td>\n",
       "      <td>NaN</td>\n",
       "      <td>NaN</td>\n",
       "      <td>5.0</td>\n",
       "      <td>1.0</td>\n",
       "      <td>352.0</td>\n",
       "      <td>I encourage you to use my kitchen, cooking and...</td>\n",
       "      <td>NaN</td>\n",
       "    </tr>\n",
       "    <tr>\n",
       "      <th>3</th>\n",
       "      <td>1002755</td>\n",
       "      <td>NaN</td>\n",
       "      <td>85098326012</td>\n",
       "      <td>unconfirmed</td>\n",
       "      <td>Garry</td>\n",
       "      <td>Brooklyn</td>\n",
       "      <td>Clinton Hill</td>\n",
       "      <td>40.68514</td>\n",
       "      <td>-73.95976</td>\n",
       "      <td>United States</td>\n",
       "      <td>...</td>\n",
       "      <td>$74</td>\n",
       "      <td>30.0</td>\n",
       "      <td>270.0</td>\n",
       "      <td>7/5/2019</td>\n",
       "      <td>4.64</td>\n",
       "      <td>4.0</td>\n",
       "      <td>1.0</td>\n",
       "      <td>322.0</td>\n",
       "      <td>NaN</td>\n",
       "      <td>NaN</td>\n",
       "    </tr>\n",
       "    <tr>\n",
       "      <th>4</th>\n",
       "      <td>1003689</td>\n",
       "      <td>Entire Apt: Spacious Studio/Loft by central park</td>\n",
       "      <td>92037596077</td>\n",
       "      <td>verified</td>\n",
       "      <td>Lyndon</td>\n",
       "      <td>Manhattan</td>\n",
       "      <td>East Harlem</td>\n",
       "      <td>40.79851</td>\n",
       "      <td>-73.94399</td>\n",
       "      <td>United States</td>\n",
       "      <td>...</td>\n",
       "      <td>$41</td>\n",
       "      <td>10.0</td>\n",
       "      <td>9.0</td>\n",
       "      <td>11/19/2018</td>\n",
       "      <td>0.10</td>\n",
       "      <td>3.0</td>\n",
       "      <td>1.0</td>\n",
       "      <td>289.0</td>\n",
       "      <td>Please no smoking in the house, porch or on th...</td>\n",
       "      <td>NaN</td>\n",
       "    </tr>\n",
       "    <tr>\n",
       "      <th>5</th>\n",
       "      <td>1004098</td>\n",
       "      <td>Large Cozy 1 BR Apartment In Midtown East</td>\n",
       "      <td>45498551794</td>\n",
       "      <td>verified</td>\n",
       "      <td>Michelle</td>\n",
       "      <td>Manhattan</td>\n",
       "      <td>Murray Hill</td>\n",
       "      <td>40.74767</td>\n",
       "      <td>-73.97500</td>\n",
       "      <td>United States</td>\n",
       "      <td>...</td>\n",
       "      <td>$115</td>\n",
       "      <td>3.0</td>\n",
       "      <td>74.0</td>\n",
       "      <td>6/22/2019</td>\n",
       "      <td>0.59</td>\n",
       "      <td>3.0</td>\n",
       "      <td>1.0</td>\n",
       "      <td>374.0</td>\n",
       "      <td>No smoking, please, and no drugs.</td>\n",
       "      <td>NaN</td>\n",
       "    </tr>\n",
       "    <tr>\n",
       "      <th>6</th>\n",
       "      <td>1004650</td>\n",
       "      <td>BlissArtsSpace!</td>\n",
       "      <td>61300605564</td>\n",
       "      <td>NaN</td>\n",
       "      <td>Alberta</td>\n",
       "      <td>Brooklyn</td>\n",
       "      <td>Bedford-Stuyvesant</td>\n",
       "      <td>40.68688</td>\n",
       "      <td>-73.95596</td>\n",
       "      <td>United States</td>\n",
       "      <td>...</td>\n",
       "      <td>$14</td>\n",
       "      <td>45.0</td>\n",
       "      <td>49.0</td>\n",
       "      <td>10/5/2017</td>\n",
       "      <td>0.40</td>\n",
       "      <td>5.0</td>\n",
       "      <td>1.0</td>\n",
       "      <td>224.0</td>\n",
       "      <td>Please no shoes in the house so bring slippers...</td>\n",
       "      <td>NaN</td>\n",
       "    </tr>\n",
       "    <tr>\n",
       "      <th>7</th>\n",
       "      <td>1005202</td>\n",
       "      <td>BlissArtsSpace!</td>\n",
       "      <td>90821839709</td>\n",
       "      <td>unconfirmed</td>\n",
       "      <td>Emma</td>\n",
       "      <td>Brooklyn</td>\n",
       "      <td>Bedford-Stuyvesant</td>\n",
       "      <td>40.68688</td>\n",
       "      <td>-73.95596</td>\n",
       "      <td>United States</td>\n",
       "      <td>...</td>\n",
       "      <td>$212</td>\n",
       "      <td>45.0</td>\n",
       "      <td>49.0</td>\n",
       "      <td>10/5/2017</td>\n",
       "      <td>0.40</td>\n",
       "      <td>5.0</td>\n",
       "      <td>1.0</td>\n",
       "      <td>219.0</td>\n",
       "      <td>House Guidelines for our BnB We are delighted ...</td>\n",
       "      <td>NaN</td>\n",
       "    </tr>\n",
       "    <tr>\n",
       "      <th>8</th>\n",
       "      <td>1005754</td>\n",
       "      <td>Large Furnished Room Near B'way</td>\n",
       "      <td>79384379533</td>\n",
       "      <td>verified</td>\n",
       "      <td>Evelyn</td>\n",
       "      <td>Manhattan</td>\n",
       "      <td>Hell's Kitchen</td>\n",
       "      <td>40.76489</td>\n",
       "      <td>-73.98493</td>\n",
       "      <td>United States</td>\n",
       "      <td>...</td>\n",
       "      <td>$204</td>\n",
       "      <td>2.0</td>\n",
       "      <td>430.0</td>\n",
       "      <td>6/24/2019</td>\n",
       "      <td>3.47</td>\n",
       "      <td>3.0</td>\n",
       "      <td>1.0</td>\n",
       "      <td>180.0</td>\n",
       "      <td>- Please clean up after yourself when using th...</td>\n",
       "      <td>NaN</td>\n",
       "    </tr>\n",
       "    <tr>\n",
       "      <th>9</th>\n",
       "      <td>1006307</td>\n",
       "      <td>Cozy Clean Guest Room - Family Apt</td>\n",
       "      <td>75527839483</td>\n",
       "      <td>unconfirmed</td>\n",
       "      <td>Carl</td>\n",
       "      <td>Manhattan</td>\n",
       "      <td>Upper West Side</td>\n",
       "      <td>40.80178</td>\n",
       "      <td>-73.96723</td>\n",
       "      <td>United States</td>\n",
       "      <td>...</td>\n",
       "      <td>$58</td>\n",
       "      <td>2.0</td>\n",
       "      <td>118.0</td>\n",
       "      <td>7/21/2017</td>\n",
       "      <td>0.99</td>\n",
       "      <td>5.0</td>\n",
       "      <td>1.0</td>\n",
       "      <td>375.0</td>\n",
       "      <td>NO SMOKING OR PETS ANYWHERE ON THE PROPERTY 1....</td>\n",
       "      <td>NaN</td>\n",
       "    </tr>\n",
       "  </tbody>\n",
       "</table>\n",
       "<p>10 rows × 26 columns</p>\n",
       "</div>"
      ],
      "text/plain": [
       "        id                                              NAME      host id  \\\n",
       "0  1001254                Clean & quiet apt home by the park  80014485718   \n",
       "1  1002102                             Skylit Midtown Castle  52335172823   \n",
       "2  1002403               THE VILLAGE OF HARLEM....NEW YORK !  78829239556   \n",
       "3  1002755                                               NaN  85098326012   \n",
       "4  1003689  Entire Apt: Spacious Studio/Loft by central park  92037596077   \n",
       "5  1004098         Large Cozy 1 BR Apartment In Midtown East  45498551794   \n",
       "6  1004650                                   BlissArtsSpace!  61300605564   \n",
       "7  1005202                                   BlissArtsSpace!  90821839709   \n",
       "8  1005754                   Large Furnished Room Near B'way  79384379533   \n",
       "9  1006307                Cozy Clean Guest Room - Family Apt  75527839483   \n",
       "\n",
       "  host_identity_verified host name neighbourhood group       neighbourhood  \\\n",
       "0            unconfirmed  Madaline            Brooklyn          Kensington   \n",
       "1               verified     Jenna           Manhattan             Midtown   \n",
       "2                    NaN     Elise           Manhattan              Harlem   \n",
       "3            unconfirmed     Garry            Brooklyn        Clinton Hill   \n",
       "4               verified    Lyndon           Manhattan         East Harlem   \n",
       "5               verified  Michelle           Manhattan         Murray Hill   \n",
       "6                    NaN   Alberta            Brooklyn  Bedford-Stuyvesant   \n",
       "7            unconfirmed      Emma            Brooklyn  Bedford-Stuyvesant   \n",
       "8               verified    Evelyn           Manhattan      Hell's Kitchen   \n",
       "9            unconfirmed      Carl           Manhattan     Upper West Side   \n",
       "\n",
       "        lat      long        country  ... service fee minimum nights  \\\n",
       "0  40.64749 -73.97237  United States  ...       $193            10.0   \n",
       "1  40.75362 -73.98377  United States  ...        $28            30.0   \n",
       "2  40.80902 -73.94190  United States  ...       $124             3.0   \n",
       "3  40.68514 -73.95976  United States  ...        $74            30.0   \n",
       "4  40.79851 -73.94399  United States  ...        $41            10.0   \n",
       "5  40.74767 -73.97500  United States  ...       $115             3.0   \n",
       "6  40.68688 -73.95596  United States  ...        $14            45.0   \n",
       "7  40.68688 -73.95596  United States  ...       $212            45.0   \n",
       "8  40.76489 -73.98493  United States  ...       $204             2.0   \n",
       "9  40.80178 -73.96723  United States  ...        $58             2.0   \n",
       "\n",
       "  number of reviews last review  reviews per month review rate number  \\\n",
       "0               9.0  10/19/2021               0.21                4.0   \n",
       "1              45.0   5/21/2022               0.38                4.0   \n",
       "2               0.0         NaN                NaN                5.0   \n",
       "3             270.0    7/5/2019               4.64                4.0   \n",
       "4               9.0  11/19/2018               0.10                3.0   \n",
       "5              74.0   6/22/2019               0.59                3.0   \n",
       "6              49.0   10/5/2017               0.40                5.0   \n",
       "7              49.0   10/5/2017               0.40                5.0   \n",
       "8             430.0   6/24/2019               3.47                3.0   \n",
       "9             118.0   7/21/2017               0.99                5.0   \n",
       "\n",
       "  calculated host listings count  availability 365  \\\n",
       "0                            6.0             286.0   \n",
       "1                            2.0             228.0   \n",
       "2                            1.0             352.0   \n",
       "3                            1.0             322.0   \n",
       "4                            1.0             289.0   \n",
       "5                            1.0             374.0   \n",
       "6                            1.0             224.0   \n",
       "7                            1.0             219.0   \n",
       "8                            1.0             180.0   \n",
       "9                            1.0             375.0   \n",
       "\n",
       "                                         house_rules license  \n",
       "0  Clean up and treat the home the way you'd like...     NaN  \n",
       "1  Pet friendly but please confirm with me if the...     NaN  \n",
       "2  I encourage you to use my kitchen, cooking and...     NaN  \n",
       "3                                                NaN     NaN  \n",
       "4  Please no smoking in the house, porch or on th...     NaN  \n",
       "5                  No smoking, please, and no drugs.     NaN  \n",
       "6  Please no shoes in the house so bring slippers...     NaN  \n",
       "7  House Guidelines for our BnB We are delighted ...     NaN  \n",
       "8  - Please clean up after yourself when using th...     NaN  \n",
       "9  NO SMOKING OR PETS ANYWHERE ON THE PROPERTY 1....     NaN  \n",
       "\n",
       "[10 rows x 26 columns]"
      ]
     },
     "execution_count": 13,
     "metadata": {},
     "output_type": "execute_result"
    }
   ],
   "source": [
    "# On affiche les 10 premières lignes\n",
    "df_air_bnb.head(10)"
   ]
  },
  {
   "cell_type": "markdown",
   "metadata": {},
   "source": [
    "## Trier les dataframes"
   ]
  },
  {
   "cell_type": "markdown",
   "metadata": {},
   "source": [
    "Tout comme sur excel, il est possible de trier ces données:"
   ]
  },
  {
   "cell_type": "code",
   "execution_count": 15,
   "metadata": {},
   "outputs": [
    {
     "data": {
      "text/html": [
       "<div>\n",
       "<style scoped>\n",
       "    .dataframe tbody tr th:only-of-type {\n",
       "        vertical-align: middle;\n",
       "    }\n",
       "\n",
       "    .dataframe tbody tr th {\n",
       "        vertical-align: top;\n",
       "    }\n",
       "\n",
       "    .dataframe thead th {\n",
       "        text-align: right;\n",
       "    }\n",
       "</style>\n",
       "<table border=\"1\" class=\"dataframe\">\n",
       "  <thead>\n",
       "    <tr style=\"text-align: right;\">\n",
       "      <th></th>\n",
       "      <th>nom</th>\n",
       "      <th>age</th>\n",
       "      <th>taille</th>\n",
       "      <th>derniere_mise_a_jour</th>\n",
       "      <th>logiciel</th>\n",
       "    </tr>\n",
       "  </thead>\n",
       "  <tbody>\n",
       "    <tr>\n",
       "      <th>1</th>\n",
       "      <td>Aline</td>\n",
       "      <td>24</td>\n",
       "      <td>1.75</td>\n",
       "      <td>2022-03-08</td>\n",
       "      <td>[Excel]</td>\n",
       "    </tr>\n",
       "    <tr>\n",
       "      <th>0</th>\n",
       "      <td>Bernard</td>\n",
       "      <td>38</td>\n",
       "      <td>1.82</td>\n",
       "      <td>2022-01-02</td>\n",
       "      <td>[Excel, Pandas]</td>\n",
       "    </tr>\n",
       "    <tr>\n",
       "      <th>2</th>\n",
       "      <td>Fred</td>\n",
       "      <td>46</td>\n",
       "      <td>1.64</td>\n",
       "      <td>2022-08-11</td>\n",
       "      <td>[Pandas]</td>\n",
       "    </tr>\n",
       "  </tbody>\n",
       "</table>\n",
       "</div>"
      ],
      "text/plain": [
       "       nom  age  taille derniere_mise_a_jour         logiciel\n",
       "1    Aline   24    1.75           2022-03-08          [Excel]\n",
       "0  Bernard   38    1.82           2022-01-02  [Excel, Pandas]\n",
       "2     Fred   46    1.64           2022-08-11         [Pandas]"
      ]
     },
     "execution_count": 15,
     "metadata": {},
     "output_type": "execute_result"
    }
   ],
   "source": [
    "df.sort_values(by=\"age\")"
   ]
  },
  {
   "cell_type": "markdown",
   "metadata": {},
   "source": [
    "Attention l'opération renvoie une copie mais la table originale n'est pas modifiée"
   ]
  },
  {
   "cell_type": "code",
   "execution_count": 16,
   "metadata": {},
   "outputs": [
    {
     "data": {
      "text/html": [
       "<div>\n",
       "<style scoped>\n",
       "    .dataframe tbody tr th:only-of-type {\n",
       "        vertical-align: middle;\n",
       "    }\n",
       "\n",
       "    .dataframe tbody tr th {\n",
       "        vertical-align: top;\n",
       "    }\n",
       "\n",
       "    .dataframe thead th {\n",
       "        text-align: right;\n",
       "    }\n",
       "</style>\n",
       "<table border=\"1\" class=\"dataframe\">\n",
       "  <thead>\n",
       "    <tr style=\"text-align: right;\">\n",
       "      <th></th>\n",
       "      <th>nom</th>\n",
       "      <th>age</th>\n",
       "      <th>taille</th>\n",
       "      <th>derniere_mise_a_jour</th>\n",
       "      <th>logiciel</th>\n",
       "    </tr>\n",
       "  </thead>\n",
       "  <tbody>\n",
       "    <tr>\n",
       "      <th>0</th>\n",
       "      <td>Bernard</td>\n",
       "      <td>38</td>\n",
       "      <td>1.82</td>\n",
       "      <td>2022-01-02</td>\n",
       "      <td>[Excel, Pandas]</td>\n",
       "    </tr>\n",
       "    <tr>\n",
       "      <th>1</th>\n",
       "      <td>Aline</td>\n",
       "      <td>24</td>\n",
       "      <td>1.75</td>\n",
       "      <td>2022-03-08</td>\n",
       "      <td>[Excel]</td>\n",
       "    </tr>\n",
       "    <tr>\n",
       "      <th>2</th>\n",
       "      <td>Fred</td>\n",
       "      <td>46</td>\n",
       "      <td>1.64</td>\n",
       "      <td>2022-08-11</td>\n",
       "      <td>[Pandas]</td>\n",
       "    </tr>\n",
       "  </tbody>\n",
       "</table>\n",
       "</div>"
      ],
      "text/plain": [
       "       nom  age  taille derniere_mise_a_jour         logiciel\n",
       "0  Bernard   38    1.82           2022-01-02  [Excel, Pandas]\n",
       "1    Aline   24    1.75           2022-03-08          [Excel]\n",
       "2     Fred   46    1.64           2022-08-11         [Pandas]"
      ]
     },
     "execution_count": 16,
     "metadata": {},
     "output_type": "execute_result"
    }
   ],
   "source": [
    "df"
   ]
  },
  {
   "cell_type": "markdown",
   "metadata": {},
   "source": [
    "Pour la modifier il faut redéfinir notre table initiale pour indiquer quelle doit correspondre maintenant à la base triée"
   ]
  },
  {
   "cell_type": "code",
   "execution_count": 11,
   "metadata": {},
   "outputs": [
    {
     "data": {
      "text/html": [
       "<div>\n",
       "<style scoped>\n",
       "    .dataframe tbody tr th:only-of-type {\n",
       "        vertical-align: middle;\n",
       "    }\n",
       "\n",
       "    .dataframe tbody tr th {\n",
       "        vertical-align: top;\n",
       "    }\n",
       "\n",
       "    .dataframe thead th {\n",
       "        text-align: right;\n",
       "    }\n",
       "</style>\n",
       "<table border=\"1\" class=\"dataframe\">\n",
       "  <thead>\n",
       "    <tr style=\"text-align: right;\">\n",
       "      <th></th>\n",
       "      <th>nom</th>\n",
       "      <th>age</th>\n",
       "      <th>taille</th>\n",
       "      <th>derniere_mise_a_jour</th>\n",
       "      <th>logiciel</th>\n",
       "      <th>Male</th>\n",
       "    </tr>\n",
       "  </thead>\n",
       "  <tbody>\n",
       "    <tr>\n",
       "      <th>1</th>\n",
       "      <td>Aline</td>\n",
       "      <td>24</td>\n",
       "      <td>1.75</td>\n",
       "      <td>2022-03-08</td>\n",
       "      <td>[Excel]</td>\n",
       "      <td>False</td>\n",
       "    </tr>\n",
       "    <tr>\n",
       "      <th>2</th>\n",
       "      <td>Fred</td>\n",
       "      <td>46</td>\n",
       "      <td>1.64</td>\n",
       "      <td>2022-08-11</td>\n",
       "      <td>[Pandas]</td>\n",
       "      <td>True</td>\n",
       "    </tr>\n",
       "    <tr>\n",
       "      <th>0</th>\n",
       "      <td>Bernard</td>\n",
       "      <td>38</td>\n",
       "      <td>1.82</td>\n",
       "      <td>2022-01-02</td>\n",
       "      <td>[Excel, Pandas]</td>\n",
       "      <td>True</td>\n",
       "    </tr>\n",
       "  </tbody>\n",
       "</table>\n",
       "</div>"
      ],
      "text/plain": [
       "       nom  age  taille derniere_mise_a_jour         logiciel   Male\n",
       "1    Aline   24    1.75           2022-03-08          [Excel]  False\n",
       "2     Fred   46    1.64           2022-08-11         [Pandas]   True\n",
       "0  Bernard   38    1.82           2022-01-02  [Excel, Pandas]   True"
      ]
     },
     "execution_count": 11,
     "metadata": {},
     "output_type": "execute_result"
    }
   ],
   "source": [
    "# on ajoute ici un double filtre, d'abord sur le genre puis sur la taille\n",
    "df = df.sort_values(by=[\"Male\",\"taille\"])\n",
    "df"
   ]
  },
  {
   "cell_type": "markdown",
   "metadata": {},
   "source": [
    "**`Exercice`**: \n",
    "- Affichez les 5 annonces air BNB dont le nombre de revues est le plus bas (ce n'est pas grave si tous les prix les moins chers sont identiques)\n",
    "- En vous aidant de la [documentation](https://pandas.pydata.org/docs/reference/api/pandas.DataFrame.sort_values.html), affichez également les 5 annonces avec le plus de revues\n",
    "- Toujours en vous aidant de la documentation, affichez les 5 annonces avec le plus de revues en utilisant la fonction inverse de head."
   ]
  },
  {
   "cell_type": "markdown",
   "metadata": {},
   "source": [
    "# 2. Sélectionner des lignes et des colonnes, créer de nouvelles colonnes ou modifier des données"
   ]
  },
  {
   "cell_type": "markdown",
   "metadata": {},
   "source": [
    "## Sélectionner des colonnes"
   ]
  },
  {
   "cell_type": "markdown",
   "metadata": {},
   "source": [
    "Chaque colonne possède un nom, on peut la sélectionner de deux manière différentes:"
   ]
  },
  {
   "cell_type": "code",
   "execution_count": null,
   "metadata": {},
   "outputs": [
    {
     "data": {
      "text/plain": [
       "1    24\n",
       "2    46\n",
       "0    38\n",
       "Name: age, dtype: int64"
      ]
     },
     "metadata": {},
     "output_type": "display_data"
    }
   ],
   "source": [
    "df.age\n",
    "\n",
    "# ou\n",
    "\n",
    "df[\"age\"]"
   ]
  },
  {
   "cell_type": "markdown",
   "metadata": {},
   "source": [
    "Si on veut accéder à plusieurs colonnes alors on doit utiliser un format différent:"
   ]
  },
  {
   "cell_type": "code",
   "execution_count": null,
   "metadata": {},
   "outputs": [
    {
     "data": {
      "text/html": [
       "<div>\n",
       "<style scoped>\n",
       "    .dataframe tbody tr th:only-of-type {\n",
       "        vertical-align: middle;\n",
       "    }\n",
       "\n",
       "    .dataframe tbody tr th {\n",
       "        vertical-align: top;\n",
       "    }\n",
       "\n",
       "    .dataframe thead th {\n",
       "        text-align: right;\n",
       "    }\n",
       "</style>\n",
       "<table border=\"1\" class=\"dataframe\">\n",
       "  <thead>\n",
       "    <tr style=\"text-align: right;\">\n",
       "      <th></th>\n",
       "      <th>nom</th>\n",
       "      <th>age</th>\n",
       "    </tr>\n",
       "  </thead>\n",
       "  <tbody>\n",
       "    <tr>\n",
       "      <th>1</th>\n",
       "      <td>Aline</td>\n",
       "      <td>24</td>\n",
       "    </tr>\n",
       "    <tr>\n",
       "      <th>2</th>\n",
       "      <td>Fred</td>\n",
       "      <td>46</td>\n",
       "    </tr>\n",
       "    <tr>\n",
       "      <th>0</th>\n",
       "      <td>Bernard</td>\n",
       "      <td>38</td>\n",
       "    </tr>\n",
       "  </tbody>\n",
       "</table>\n",
       "</div>"
      ],
      "text/plain": [
       "       nom  age\n",
       "1    Aline   24\n",
       "2     Fred   46\n",
       "0  Bernard   38"
      ]
     },
     "metadata": {},
     "output_type": "display_data"
    }
   ],
   "source": [
    "df[[\"nom\",\"age\"]]"
   ]
  },
  {
   "cell_type": "markdown",
   "metadata": {},
   "source": [
    "L'ensemble des noms de colonnes se retrouve dans l'attribut columns:"
   ]
  },
  {
   "cell_type": "code",
   "execution_count": null,
   "metadata": {},
   "outputs": [
    {
     "data": {
      "text/plain": [
       "Index(['nom', 'age', 'taille', 'derniere_mise_a_jour', 'logiciel', 'Male'], dtype='object')"
      ]
     },
     "metadata": {},
     "output_type": "display_data"
    }
   ],
   "source": [
    "df.columns"
   ]
  },
  {
   "cell_type": "markdown",
   "metadata": {},
   "source": [
    "On peut facilement créer une nouvelle colonne, supprimer ou renommer une colonne:"
   ]
  },
  {
   "cell_type": "code",
   "execution_count": 9,
   "metadata": {},
   "outputs": [
    {
     "data": {
      "text/html": [
       "<div>\n",
       "<style scoped>\n",
       "    .dataframe tbody tr th:only-of-type {\n",
       "        vertical-align: middle;\n",
       "    }\n",
       "\n",
       "    .dataframe tbody tr th {\n",
       "        vertical-align: top;\n",
       "    }\n",
       "\n",
       "    .dataframe thead th {\n",
       "        text-align: right;\n",
       "    }\n",
       "</style>\n",
       "<table border=\"1\" class=\"dataframe\">\n",
       "  <thead>\n",
       "    <tr style=\"text-align: right;\">\n",
       "      <th></th>\n",
       "      <th>nom</th>\n",
       "      <th>age</th>\n",
       "      <th>taille</th>\n",
       "      <th>derniere_mise_a_jour</th>\n",
       "      <th>logiciel</th>\n",
       "      <th>Male</th>\n",
       "      <th>new_age</th>\n",
       "    </tr>\n",
       "  </thead>\n",
       "  <tbody>\n",
       "    <tr>\n",
       "      <th>0</th>\n",
       "      <td>Bernard</td>\n",
       "      <td>44</td>\n",
       "      <td>1.82</td>\n",
       "      <td>2022-01-02</td>\n",
       "      <td>[Excel, Pandas]</td>\n",
       "      <td>True</td>\n",
       "      <td>48</td>\n",
       "    </tr>\n",
       "    <tr>\n",
       "      <th>1</th>\n",
       "      <td>Aline</td>\n",
       "      <td>30</td>\n",
       "      <td>1.75</td>\n",
       "      <td>2022-03-08</td>\n",
       "      <td>[Excel]</td>\n",
       "      <td>False</td>\n",
       "      <td>48</td>\n",
       "    </tr>\n",
       "    <tr>\n",
       "      <th>2</th>\n",
       "      <td>Fred</td>\n",
       "      <td>52</td>\n",
       "      <td>1.64</td>\n",
       "      <td>2022-08-11</td>\n",
       "      <td>[Pandas]</td>\n",
       "      <td>True</td>\n",
       "      <td>48</td>\n",
       "    </tr>\n",
       "  </tbody>\n",
       "</table>\n",
       "</div>"
      ],
      "text/plain": [
       "       nom  age  taille derniere_mise_a_jour         logiciel   Male  new_age\n",
       "0  Bernard   44    1.82           2022-01-02  [Excel, Pandas]   True       48\n",
       "1    Aline   30    1.75           2022-03-08          [Excel]  False       48\n",
       "2     Fred   52    1.64           2022-08-11         [Pandas]   True       48"
      ]
     },
     "execution_count": 9,
     "metadata": {},
     "output_type": "execute_result"
    }
   ],
   "source": [
    "df[\"new_age\"] = 48\n",
    "df"
   ]
  },
  {
   "cell_type": "code",
   "execution_count": 14,
   "metadata": {},
   "outputs": [
    {
     "data": {
      "text/html": [
       "<div>\n",
       "<style scoped>\n",
       "    .dataframe tbody tr th:only-of-type {\n",
       "        vertical-align: middle;\n",
       "    }\n",
       "\n",
       "    .dataframe tbody tr th {\n",
       "        vertical-align: top;\n",
       "    }\n",
       "\n",
       "    .dataframe thead th {\n",
       "        text-align: right;\n",
       "    }\n",
       "</style>\n",
       "<table border=\"1\" class=\"dataframe\">\n",
       "  <thead>\n",
       "    <tr style=\"text-align: right;\">\n",
       "      <th></th>\n",
       "      <th>nom</th>\n",
       "      <th>age</th>\n",
       "      <th>taille</th>\n",
       "      <th>derniere_mise_a_jour</th>\n",
       "      <th>logiciel</th>\n",
       "      <th>Male</th>\n",
       "      <th>new_age</th>\n",
       "    </tr>\n",
       "  </thead>\n",
       "  <tbody>\n",
       "    <tr>\n",
       "      <th>0</th>\n",
       "      <td>Bernard</td>\n",
       "      <td>44</td>\n",
       "      <td>1.82</td>\n",
       "      <td>2022-01-02</td>\n",
       "      <td>[Excel, Pandas]</td>\n",
       "      <td>True</td>\n",
       "      <td>48</td>\n",
       "    </tr>\n",
       "    <tr>\n",
       "      <th>1</th>\n",
       "      <td>Aline</td>\n",
       "      <td>30</td>\n",
       "      <td>1.75</td>\n",
       "      <td>2022-03-08</td>\n",
       "      <td>[Excel]</td>\n",
       "      <td>False</td>\n",
       "      <td>48</td>\n",
       "    </tr>\n",
       "    <tr>\n",
       "      <th>2</th>\n",
       "      <td>Fred</td>\n",
       "      <td>52</td>\n",
       "      <td>1.64</td>\n",
       "      <td>2022-08-11</td>\n",
       "      <td>[Pandas]</td>\n",
       "      <td>True</td>\n",
       "      <td>48</td>\n",
       "    </tr>\n",
       "  </tbody>\n",
       "</table>\n",
       "</div>"
      ],
      "text/plain": [
       "       nom  age  taille derniere_mise_a_jour         logiciel   Male  new_age\n",
       "0  Bernard   44    1.82           2022-01-02  [Excel, Pandas]   True       48\n",
       "1    Aline   30    1.75           2022-03-08          [Excel]  False       48\n",
       "2     Fred   52    1.64           2022-08-11         [Pandas]   True       48"
      ]
     },
     "execution_count": 14,
     "metadata": {},
     "output_type": "execute_result"
    }
   ],
   "source": [
    "df = df.rename(mapper={\"new_name\":\"new_age\"})\n",
    "df"
   ]
  },
  {
   "cell_type": "code",
   "execution_count": null,
   "metadata": {},
   "outputs": [],
   "source": [
    "df.drop(\"new_name\")"
   ]
  },
  {
   "cell_type": "markdown",
   "metadata": {},
   "source": [
    "## Sélection de lignes"
   ]
  },
  {
   "cell_type": "markdown",
   "metadata": {},
   "source": [
    "On va utiliser deux méthodes pour accéder aux lignes et aux colonnes de notre data frame\n",
    "- `iloc` qui permet de rechercher des lignes en fonction de leur indice\n",
    "- `loc` qui permet de recher"
   ]
  },
  {
   "cell_type": "markdown",
   "metadata": {},
   "source": [
    "### La méthode iloc"
   ]
  },
  {
   "cell_type": "code",
   "execution_count": null,
   "metadata": {},
   "outputs": [],
   "source": [
    "# La méthode .iloc suit la syntaxe suivante :  \n",
    "df.iloc[indice_ligne, indice_colonne]"
   ]
  },
  {
   "cell_type": "code",
   "execution_count": 12,
   "metadata": {},
   "outputs": [
    {
     "data": {
      "text/plain": [
       "1.75"
      ]
     },
     "execution_count": 12,
     "metadata": {},
     "output_type": "execute_result"
    }
   ],
   "source": [
    "# on cherche pour la première personne de la base (Aline) la valeur de la troisième colonne (taille)\n",
    "df.iloc[0,2]"
   ]
  },
  {
   "cell_type": "markdown",
   "metadata": {},
   "source": [
    "On peut également afficher seulement la première ligne"
   ]
  },
  {
   "cell_type": "code",
   "execution_count": 13,
   "metadata": {},
   "outputs": [
    {
     "data": {
      "text/plain": [
       "nom                                   Aline\n",
       "age                                      24\n",
       "taille                                 1.75\n",
       "derniere_mise_a_jour    2022-03-08 00:00:00\n",
       "logiciel                            [Excel]\n",
       "Male                                  False\n",
       "Name: 1, dtype: object"
      ]
     },
     "execution_count": 13,
     "metadata": {},
     "output_type": "execute_result"
    }
   ],
   "source": [
    "df.iloc[0]"
   ]
  },
  {
   "cell_type": "markdown",
   "metadata": {},
   "source": [
    "ou plusieurs lignes et plusieurs colonnes"
   ]
  },
  {
   "cell_type": "code",
   "execution_count": 14,
   "metadata": {},
   "outputs": [
    {
     "data": {
      "text/html": [
       "<div>\n",
       "<style scoped>\n",
       "    .dataframe tbody tr th:only-of-type {\n",
       "        vertical-align: middle;\n",
       "    }\n",
       "\n",
       "    .dataframe tbody tr th {\n",
       "        vertical-align: top;\n",
       "    }\n",
       "\n",
       "    .dataframe thead th {\n",
       "        text-align: right;\n",
       "    }\n",
       "</style>\n",
       "<table border=\"1\" class=\"dataframe\">\n",
       "  <thead>\n",
       "    <tr style=\"text-align: right;\">\n",
       "      <th></th>\n",
       "      <th>derniere_mise_a_jour</th>\n",
       "      <th>logiciel</th>\n",
       "    </tr>\n",
       "  </thead>\n",
       "  <tbody>\n",
       "    <tr>\n",
       "      <th>1</th>\n",
       "      <td>2022-03-08</td>\n",
       "      <td>[Excel]</td>\n",
       "    </tr>\n",
       "    <tr>\n",
       "      <th>2</th>\n",
       "      <td>2022-08-11</td>\n",
       "      <td>[Pandas]</td>\n",
       "    </tr>\n",
       "  </tbody>\n",
       "</table>\n",
       "</div>"
      ],
      "text/plain": [
       "  derniere_mise_a_jour  logiciel\n",
       "1           2022-03-08   [Excel]\n",
       "2           2022-08-11  [Pandas]"
      ]
     },
     "execution_count": 14,
     "metadata": {},
     "output_type": "execute_result"
    }
   ],
   "source": [
    "df.iloc[0:2, 3:5]"
   ]
  },
  {
   "cell_type": "markdown",
   "metadata": {},
   "source": [
    "### La méthode loc"
   ]
  },
  {
   "cell_type": "markdown",
   "metadata": {},
   "source": [
    "Cependant la majeure partie du temps on va filter les lignes en fonction de critères et non en fonction de leur indice.  \n",
    "Pour cela on utilise la méthode loc"
   ]
  },
  {
   "cell_type": "code",
   "execution_count": null,
   "metadata": {},
   "outputs": [],
   "source": [
    "# Cette méthode suit la syntaxe suivante.\n",
    "mon_dataframe.loc[ condition sur les lignes, colonne(s) ]"
   ]
  },
  {
   "cell_type": "code",
   "execution_count": 15,
   "metadata": {},
   "outputs": [
    {
     "data": {
      "text/html": [
       "<div>\n",
       "<style scoped>\n",
       "    .dataframe tbody tr th:only-of-type {\n",
       "        vertical-align: middle;\n",
       "    }\n",
       "\n",
       "    .dataframe tbody tr th {\n",
       "        vertical-align: top;\n",
       "    }\n",
       "\n",
       "    .dataframe thead th {\n",
       "        text-align: right;\n",
       "    }\n",
       "</style>\n",
       "<table border=\"1\" class=\"dataframe\">\n",
       "  <thead>\n",
       "    <tr style=\"text-align: right;\">\n",
       "      <th></th>\n",
       "      <th>nom</th>\n",
       "      <th>age</th>\n",
       "      <th>taille</th>\n",
       "      <th>derniere_mise_a_jour</th>\n",
       "      <th>logiciel</th>\n",
       "      <th>Male</th>\n",
       "    </tr>\n",
       "  </thead>\n",
       "  <tbody>\n",
       "    <tr>\n",
       "      <th>1</th>\n",
       "      <td>Aline</td>\n",
       "      <td>24</td>\n",
       "      <td>1.75</td>\n",
       "      <td>2022-03-08</td>\n",
       "      <td>[Excel]</td>\n",
       "      <td>False</td>\n",
       "    </tr>\n",
       "    <tr>\n",
       "      <th>0</th>\n",
       "      <td>Bernard</td>\n",
       "      <td>38</td>\n",
       "      <td>1.82</td>\n",
       "      <td>2022-01-02</td>\n",
       "      <td>[Excel, Pandas]</td>\n",
       "      <td>True</td>\n",
       "    </tr>\n",
       "  </tbody>\n",
       "</table>\n",
       "</div>"
      ],
      "text/plain": [
       "       nom  age  taille derniere_mise_a_jour         logiciel   Male\n",
       "1    Aline   24    1.75           2022-03-08          [Excel]  False\n",
       "0  Bernard   38    1.82           2022-01-02  [Excel, Pandas]   True"
      ]
     },
     "execution_count": 15,
     "metadata": {},
     "output_type": "execute_result"
    }
   ],
   "source": [
    "df.loc[ df['taille']> 1.70, :]"
   ]
  },
  {
   "cell_type": "markdown",
   "metadata": {},
   "source": [
    "On peut aussi utiliser une double condition, attention:\n",
    "- il faut mettre des parenthèse\n",
    "- on ne va pas utiliser \"and\" ou \"or\" mais & et |"
   ]
  },
  {
   "cell_type": "code",
   "execution_count": 3,
   "metadata": {},
   "outputs": [
    {
     "data": {
      "text/html": [
       "<div>\n",
       "<style scoped>\n",
       "    .dataframe tbody tr th:only-of-type {\n",
       "        vertical-align: middle;\n",
       "    }\n",
       "\n",
       "    .dataframe tbody tr th {\n",
       "        vertical-align: top;\n",
       "    }\n",
       "\n",
       "    .dataframe thead th {\n",
       "        text-align: right;\n",
       "    }\n",
       "</style>\n",
       "<table border=\"1\" class=\"dataframe\">\n",
       "  <thead>\n",
       "    <tr style=\"text-align: right;\">\n",
       "      <th></th>\n",
       "      <th>nom</th>\n",
       "      <th>age</th>\n",
       "      <th>taille</th>\n",
       "      <th>derniere_mise_a_jour</th>\n",
       "      <th>logiciel</th>\n",
       "      <th>Male</th>\n",
       "    </tr>\n",
       "  </thead>\n",
       "  <tbody>\n",
       "    <tr>\n",
       "      <th>1</th>\n",
       "      <td>Aline</td>\n",
       "      <td>24</td>\n",
       "      <td>1.75</td>\n",
       "      <td>2022-03-08</td>\n",
       "      <td>[Excel]</td>\n",
       "      <td>False</td>\n",
       "    </tr>\n",
       "  </tbody>\n",
       "</table>\n",
       "</div>"
      ],
      "text/plain": [
       "     nom  age  taille derniere_mise_a_jour logiciel   Male\n",
       "1  Aline   24    1.75           2022-03-08  [Excel]  False"
      ]
     },
     "execution_count": 3,
     "metadata": {},
     "output_type": "execute_result"
    }
   ],
   "source": [
    "df.loc[ (df['taille']> 1.70) &(df['age']<30), :]"
   ]
  },
  {
   "cell_type": "markdown",
   "metadata": {},
   "source": [
    "### Indice et Index"
   ]
  },
  {
   "cell_type": "markdown",
   "metadata": {},
   "source": [
    "Pour le moment nous n'avons pas distinguer deux notions proches qui sont celle de `ìndice`et `index``\n",
    "- indice: correspond à la ligne sur lequel se trouve la donnée\n",
    "- l'index est un moyen unique d'identifier une ligne\n",
    "\n",
    "Quand on on crée un dataframe, l'indice correspond à l'index. Cependant après certaines opérations comme sort, les deux ne sont plus confondus."
   ]
  },
  {
   "cell_type": "code",
   "execution_count": 26,
   "metadata": {},
   "outputs": [
    {
     "name": "stdout",
     "output_type": "stream",
     "text": [
      "       nom  age  taille derniere_mise_a_jour         logiciel   Male\n",
      "0  Bernard   38    1.82           2022-01-02  [Excel, Pandas]   True\n",
      "1    Aline   24    1.75           2022-03-08          [Excel]  False\n"
     ]
    }
   ],
   "source": [
    "# loc permet de rechercher en fonction de l'index\n",
    "print(df.loc[[0,1],:])\n"
   ]
  },
  {
   "cell_type": "markdown",
   "metadata": {},
   "source": [
    "Après une opération comme sort() on peut remettre à jour l'index"
   ]
  },
  {
   "cell_type": "code",
   "execution_count": null,
   "metadata": {},
   "outputs": [],
   "source": [
    "df.reset_index()"
   ]
  },
  {
   "cell_type": "markdown",
   "metadata": {},
   "source": [
    "On peut modifier l'index en utilisant une colonne mais il faut que celle-ci soit unique. On verra l'interet de cette opération quand on passera à a visualisation"
   ]
  },
  {
   "cell_type": "code",
   "execution_count": 20,
   "metadata": {},
   "outputs": [
    {
     "data": {
      "text/html": [
       "<div>\n",
       "<style scoped>\n",
       "    .dataframe tbody tr th:only-of-type {\n",
       "        vertical-align: middle;\n",
       "    }\n",
       "\n",
       "    .dataframe tbody tr th {\n",
       "        vertical-align: top;\n",
       "    }\n",
       "\n",
       "    .dataframe thead th {\n",
       "        text-align: right;\n",
       "    }\n",
       "</style>\n",
       "<table border=\"1\" class=\"dataframe\">\n",
       "  <thead>\n",
       "    <tr style=\"text-align: right;\">\n",
       "      <th></th>\n",
       "      <th>age</th>\n",
       "      <th>taille</th>\n",
       "      <th>derniere_mise_a_jour</th>\n",
       "      <th>logiciel</th>\n",
       "      <th>Male</th>\n",
       "    </tr>\n",
       "    <tr>\n",
       "      <th>nom</th>\n",
       "      <th></th>\n",
       "      <th></th>\n",
       "      <th></th>\n",
       "      <th></th>\n",
       "      <th></th>\n",
       "    </tr>\n",
       "  </thead>\n",
       "  <tbody>\n",
       "    <tr>\n",
       "      <th>Bernard</th>\n",
       "      <td>38.0</td>\n",
       "      <td>1.82</td>\n",
       "      <td>2022-01-02</td>\n",
       "      <td>[Excel, Pandas]</td>\n",
       "      <td>True</td>\n",
       "    </tr>\n",
       "    <tr>\n",
       "      <th>Aline</th>\n",
       "      <td>24.0</td>\n",
       "      <td>1.75</td>\n",
       "      <td>2022-03-08</td>\n",
       "      <td>[Excel]</td>\n",
       "      <td>False</td>\n",
       "    </tr>\n",
       "    <tr>\n",
       "      <th>Fred</th>\n",
       "      <td>46.0</td>\n",
       "      <td>1.64</td>\n",
       "      <td>2022-08-11</td>\n",
       "      <td>[Pandas]</td>\n",
       "      <td>True</td>\n",
       "    </tr>\n",
       "    <tr>\n",
       "      <th>Marie</th>\n",
       "      <td>nan</td>\n",
       "      <td>1.70</td>\n",
       "      <td>2022-08-12</td>\n",
       "      <td>[Excel]</td>\n",
       "      <td>False</td>\n",
       "    </tr>\n",
       "  </tbody>\n",
       "</table>\n",
       "</div>"
      ],
      "text/plain": [
       "          age  taille derniere_mise_a_jour         logiciel   Male\n",
       "nom                                                               \n",
       "Bernard  38.0    1.82           2022-01-02  [Excel, Pandas]   True\n",
       "Aline    24.0    1.75           2022-03-08          [Excel]  False\n",
       "Fred     46.0    1.64           2022-08-11         [Pandas]   True\n",
       "Marie     nan    1.70           2022-08-12          [Excel]  False"
      ]
     },
     "execution_count": 20,
     "metadata": {},
     "output_type": "execute_result"
    }
   ],
   "source": [
    "df.set_index('nom')"
   ]
  },
  {
   "cell_type": "markdown",
   "metadata": {},
   "source": [
    "**`Exercice`**: \n",
    "- créez une table à partir de la table airbnb en ne concervant que les annonces disponibles plus de 100 jours par an ou 100 jours exactement.\n",
    "- selectionner parmi cette table créée les 15 annonces ayant le plus de revues et pour ces annonces ne conserver que les colonnes \"host id\",\t\"host name\"\tet \"neighbourhood\"\n",
    "- renommez ces colonnes \"host_id\",\t\"host_name\"\tet \"neighbourhood\"\n",
    "- faite de host_id l'index puis triez la table en fonction de l'index."
   ]
  },
  {
   "cell_type": "markdown",
   "metadata": {},
   "source": [
    "## L'échantillonage avec sample"
   ]
  },
  {
   "cell_type": "markdown",
   "metadata": {},
   "source": [
    "Enfin il arrive souvent qu'on veille créer un échantillon aléatoire de nos données pour travailler avec mon de donner.\n",
    "On va utiliser la méthode sample qui a plusieurs paramètres interessants:\n",
    "- n (int): si on veut préciser combien de données on veut obtenir\n",
    "- frac (float) : si on veut préciser la fraction de données qu'on veut obtenir \n",
    "- replace (bool): est ce qu'on autorise qu'une occurrence puisse être tirée au sort plusieurs fois\n",
    "- weight: est ce que certaines occurrences doivent avoir plus de poids (utile dans les jeux non équilibrés) "
   ]
  },
  {
   "cell_type": "code",
   "execution_count": 1,
   "metadata": {},
   "outputs": [
    {
     "ename": "NameError",
     "evalue": "name 'df' is not defined",
     "output_type": "error",
     "traceback": [
      "\u001b[0;31m---------------------------------------------------------------------------\u001b[0m",
      "\u001b[0;31mNameError\u001b[0m                                 Traceback (most recent call last)",
      "Cell \u001b[0;32mIn [1], line 1\u001b[0m\n\u001b[0;32m----> 1\u001b[0m df\u001b[38;5;241m.\u001b[39msample(frac\u001b[38;5;241m=\u001b[39m\u001b[38;5;241m1\u001b[39m\u001b[38;5;241m/\u001b[39m\u001b[38;5;241m3\u001b[39m)\n",
      "\u001b[0;31mNameError\u001b[0m: name 'df' is not defined"
     ]
    }
   ],
   "source": [
    "df.sample(frac=1/3)"
   ]
  },
  {
   "cell_type": "markdown",
   "metadata": {},
   "source": [
    "## Créer de nouvelles colonnes ou modifier la valeur d'une colonne "
   ]
  },
  {
   "cell_type": "markdown",
   "metadata": {},
   "source": [
    "### Opération simple"
   ]
  },
  {
   "cell_type": "code",
   "execution_count": null,
   "metadata": {},
   "outputs": [],
   "source": [
    "Il est possible de modifier une colonne en faisant une simple opération"
   ]
  },
  {
   "cell_type": "code",
   "execution_count": 4,
   "metadata": {},
   "outputs": [],
   "source": [
    "df[\"taille_inch\"]= df[\"taille\"]*1.6"
   ]
  },
  {
   "cell_type": "markdown",
   "metadata": {},
   "source": [
    "Avec la méthode loc, on peut meme ne modifier qu'une partie d'une colone"
   ]
  },
  {
   "cell_type": "code",
   "execution_count": 5,
   "metadata": {},
   "outputs": [],
   "source": [
    "df.loc[df[\"taille\"]>1.8,\"age\"]=30"
   ]
  },
  {
   "cell_type": "code",
   "execution_count": null,
   "metadata": {},
   "outputs": [],
   "source": [
    "df[\"date_de_naissance\"] = 2022 - df[\"age\"] \n",
    "df[\"ims\"] = df[\"age\"] * 2 + df[\"taille\"]"
   ]
  },
  {
   "cell_type": "markdown",
   "metadata": {},
   "source": [
    "Mais avec ce n'est pas possible de l'utiliser avec des fonctions"
   ]
  },
  {
   "cell_type": "code",
   "execution_count": null,
   "metadata": {},
   "outputs": [],
   "source": [
    "df[\"name_length\"] = len(df[\"nom\"])"
   ]
  },
  {
   "cell_type": "markdown",
   "metadata": {},
   "source": [
    "### la fonction apply"
   ]
  },
  {
   "cell_type": "markdown",
   "metadata": {},
   "source": [
    "On va dans ce cas là utiliser une fonction apply à l'aide d'une fonction lambda"
   ]
  },
  {
   "cell_type": "code",
   "execution_count": null,
   "metadata": {},
   "outputs": [
    {
     "data": {
      "text/html": [
       "<div>\n",
       "<style scoped>\n",
       "    .dataframe tbody tr th:only-of-type {\n",
       "        vertical-align: middle;\n",
       "    }\n",
       "\n",
       "    .dataframe tbody tr th {\n",
       "        vertical-align: top;\n",
       "    }\n",
       "\n",
       "    .dataframe thead th {\n",
       "        text-align: right;\n",
       "    }\n",
       "</style>\n",
       "<table border=\"1\" class=\"dataframe\">\n",
       "  <thead>\n",
       "    <tr style=\"text-align: right;\">\n",
       "      <th></th>\n",
       "      <th>nom</th>\n",
       "      <th>age</th>\n",
       "      <th>taille</th>\n",
       "      <th>derniere_mise_a_jour</th>\n",
       "      <th>logiciel</th>\n",
       "      <th>Male</th>\n",
       "      <th>date_de_naissance</th>\n",
       "      <th>ims</th>\n",
       "      <th>name_length</th>\n",
       "    </tr>\n",
       "  </thead>\n",
       "  <tbody>\n",
       "    <tr>\n",
       "      <th>0</th>\n",
       "      <td>Bernard</td>\n",
       "      <td>38</td>\n",
       "      <td>1.82</td>\n",
       "      <td>2022-01-02</td>\n",
       "      <td>[Excel, Pandas]</td>\n",
       "      <td>True</td>\n",
       "      <td>1984</td>\n",
       "      <td>77.82</td>\n",
       "      <td>7</td>\n",
       "    </tr>\n",
       "    <tr>\n",
       "      <th>1</th>\n",
       "      <td>Aline</td>\n",
       "      <td>24</td>\n",
       "      <td>1.75</td>\n",
       "      <td>2022-03-08</td>\n",
       "      <td>[Excel]</td>\n",
       "      <td>False</td>\n",
       "      <td>1998</td>\n",
       "      <td>49.75</td>\n",
       "      <td>5</td>\n",
       "    </tr>\n",
       "    <tr>\n",
       "      <th>2</th>\n",
       "      <td>Fred</td>\n",
       "      <td>46</td>\n",
       "      <td>1.64</td>\n",
       "      <td>2022-08-11</td>\n",
       "      <td>[Pandas]</td>\n",
       "      <td>True</td>\n",
       "      <td>1976</td>\n",
       "      <td>93.64</td>\n",
       "      <td>4</td>\n",
       "    </tr>\n",
       "  </tbody>\n",
       "</table>\n",
       "</div>"
      ],
      "text/plain": [
       "       nom  age  taille derniere_mise_a_jour         logiciel   Male  \\\n",
       "0  Bernard   38    1.82           2022-01-02  [Excel, Pandas]   True   \n",
       "1    Aline   24    1.75           2022-03-08          [Excel]  False   \n",
       "2     Fred   46    1.64           2022-08-11         [Pandas]   True   \n",
       "\n",
       "   date_de_naissance    ims  name_length  \n",
       "0               1984  77.82            7  \n",
       "1               1998  49.75            5  \n",
       "2               1976  93.64            4  "
      ]
     },
     "metadata": {},
     "output_type": "display_data"
    }
   ],
   "source": [
    "df[\"name_length\"] = df[\"nom\"].apply(lambda x: len(x))\n",
    "df"
   ]
  },
  {
   "cell_type": "markdown",
   "metadata": {},
   "source": [
    "Ce qui va nous permettre des usages plus complexes"
   ]
  },
  {
   "cell_type": "code",
   "execution_count": null,
   "metadata": {},
   "outputs": [],
   "source": [
    "df[\"observation_taille\"] = df[\"taille\"].apply(lambda x: \"grand\" if x> 1.8 else \"petit\")"
   ]
  },
  {
   "cell_type": "code",
   "execution_count": null,
   "metadata": {},
   "outputs": [
    {
     "data": {
      "text/html": [
       "<div>\n",
       "<style scoped>\n",
       "    .dataframe tbody tr th:only-of-type {\n",
       "        vertical-align: middle;\n",
       "    }\n",
       "\n",
       "    .dataframe tbody tr th {\n",
       "        vertical-align: top;\n",
       "    }\n",
       "\n",
       "    .dataframe thead th {\n",
       "        text-align: right;\n",
       "    }\n",
       "</style>\n",
       "<table border=\"1\" class=\"dataframe\">\n",
       "  <thead>\n",
       "    <tr style=\"text-align: right;\">\n",
       "      <th></th>\n",
       "      <th>nom</th>\n",
       "      <th>taille</th>\n",
       "      <th>observation_taille</th>\n",
       "    </tr>\n",
       "  </thead>\n",
       "  <tbody>\n",
       "    <tr>\n",
       "      <th>0</th>\n",
       "      <td>Bernard</td>\n",
       "      <td>1.82</td>\n",
       "      <td>grand</td>\n",
       "    </tr>\n",
       "    <tr>\n",
       "      <th>1</th>\n",
       "      <td>Aline</td>\n",
       "      <td>1.75</td>\n",
       "      <td>petit</td>\n",
       "    </tr>\n",
       "    <tr>\n",
       "      <th>2</th>\n",
       "      <td>Fred</td>\n",
       "      <td>1.64</td>\n",
       "      <td>petit</td>\n",
       "    </tr>\n",
       "  </tbody>\n",
       "</table>\n",
       "</div>"
      ],
      "text/plain": [
       "       nom  taille observation_taille\n",
       "0  Bernard    1.82              grand\n",
       "1    Aline    1.75              petit\n",
       "2     Fred    1.64              petit"
      ]
     },
     "metadata": {},
     "output_type": "display_data"
    }
   ],
   "source": [
    "df[[\"nom\",\"taille\",\"observation_taille\"]]"
   ]
  },
  {
   "cell_type": "markdown",
   "metadata": {},
   "source": [
    "Attention si on veut créer un colonne à partir de deux colonnes, l'écriture diffère:"
   ]
  },
  {
   "cell_type": "code",
   "execution_count": null,
   "metadata": {},
   "outputs": [],
   "source": [
    "df[\"new_col\"] = df[[\"taille\",\"nom\"]].apply(lambda x: x[0]+len(x[1]), axis=1)"
   ]
  },
  {
   "cell_type": "code",
   "execution_count": null,
   "metadata": {},
   "outputs": [
    {
     "data": {
      "text/html": [
       "<div>\n",
       "<style scoped>\n",
       "    .dataframe tbody tr th:only-of-type {\n",
       "        vertical-align: middle;\n",
       "    }\n",
       "\n",
       "    .dataframe tbody tr th {\n",
       "        vertical-align: top;\n",
       "    }\n",
       "\n",
       "    .dataframe thead th {\n",
       "        text-align: right;\n",
       "    }\n",
       "</style>\n",
       "<table border=\"1\" class=\"dataframe\">\n",
       "  <thead>\n",
       "    <tr style=\"text-align: right;\">\n",
       "      <th></th>\n",
       "      <th>nom</th>\n",
       "      <th>age</th>\n",
       "      <th>taille</th>\n",
       "      <th>derniere_mise_a_jour</th>\n",
       "      <th>logiciel</th>\n",
       "      <th>Male</th>\n",
       "      <th>date_de_naissance</th>\n",
       "      <th>ims</th>\n",
       "      <th>name_length</th>\n",
       "      <th>observation_taille</th>\n",
       "      <th>valeur_x</th>\n",
       "      <th>new_col</th>\n",
       "    </tr>\n",
       "  </thead>\n",
       "  <tbody>\n",
       "    <tr>\n",
       "      <th>0</th>\n",
       "      <td>Bernard</td>\n",
       "      <td>38</td>\n",
       "      <td>1.82</td>\n",
       "      <td>2022-01-02</td>\n",
       "      <td>[Excel, Pandas]</td>\n",
       "      <td>True</td>\n",
       "      <td>1984</td>\n",
       "      <td>77.82</td>\n",
       "      <td>7</td>\n",
       "      <td>grand</td>\n",
       "      <td>(1.82, Bernard)</td>\n",
       "      <td>8.82</td>\n",
       "    </tr>\n",
       "    <tr>\n",
       "      <th>1</th>\n",
       "      <td>Aline</td>\n",
       "      <td>24</td>\n",
       "      <td>1.75</td>\n",
       "      <td>2022-03-08</td>\n",
       "      <td>[Excel]</td>\n",
       "      <td>False</td>\n",
       "      <td>1998</td>\n",
       "      <td>49.75</td>\n",
       "      <td>5</td>\n",
       "      <td>petit</td>\n",
       "      <td>(1.75, Aline)</td>\n",
       "      <td>6.75</td>\n",
       "    </tr>\n",
       "    <tr>\n",
       "      <th>2</th>\n",
       "      <td>Fred</td>\n",
       "      <td>46</td>\n",
       "      <td>1.64</td>\n",
       "      <td>2022-08-11</td>\n",
       "      <td>[Pandas]</td>\n",
       "      <td>True</td>\n",
       "      <td>1976</td>\n",
       "      <td>93.64</td>\n",
       "      <td>4</td>\n",
       "      <td>petit</td>\n",
       "      <td>(1.64, Fred)</td>\n",
       "      <td>5.64</td>\n",
       "    </tr>\n",
       "  </tbody>\n",
       "</table>\n",
       "</div>"
      ],
      "text/plain": [
       "       nom  age  taille derniere_mise_a_jour         logiciel   Male  \\\n",
       "0  Bernard   38    1.82           2022-01-02  [Excel, Pandas]   True   \n",
       "1    Aline   24    1.75           2022-03-08          [Excel]  False   \n",
       "2     Fred   46    1.64           2022-08-11         [Pandas]   True   \n",
       "\n",
       "   date_de_naissance    ims  name_length observation_taille         valeur_x  \\\n",
       "0               1984  77.82            7              grand  (1.82, Bernard)   \n",
       "1               1998  49.75            5              petit    (1.75, Aline)   \n",
       "2               1976  93.64            4              petit     (1.64, Fred)   \n",
       "\n",
       "   new_col  \n",
       "0     8.82  \n",
       "1     6.75  \n",
       "2     5.64  "
      ]
     },
     "metadata": {},
     "output_type": "display_data"
    }
   ],
   "source": [
    "df"
   ]
  },
  {
   "cell_type": "markdown",
   "metadata": {},
   "source": [
    "### remplacer des données par d'autres avec map ou catcode"
   ]
  },
  {
   "cell_type": "markdown",
   "metadata": {},
   "source": [
    "Map permet d'utiliser un dictionnaire pour remplacer des valeurs par n'importe quelles autres."
   ]
  },
  {
   "cell_type": "code",
   "execution_count": null,
   "metadata": {},
   "outputs": [],
   "source": [
    "df[\"Male\"].map({True:1,False:0})"
   ]
  },
  {
   "cell_type": "markdown",
   "metadata": {},
   "source": [
    "Quand on a beaucoup de valeurs et qu'on veut faire une conversion numérique, on peut utiliser la méthode catcode"
   ]
  },
  {
   "cell_type": "code",
   "execution_count": null,
   "metadata": {},
   "outputs": [],
   "source": [
    "df[\"Male\"].astype(\"category\").cat.codes"
   ]
  },
  {
   "cell_type": "markdown",
   "metadata": {},
   "source": [
    "# 3. Nettoyage de données"
   ]
  },
  {
   "cell_type": "markdown",
   "metadata": {},
   "source": [
    "## Traitement des valeurs manquantes"
   ]
  },
  {
   "cell_type": "markdown",
   "metadata": {},
   "source": [
    "On a ajouté Marie à notre base de données mais on ne connait pas son âge. C'est parfois génant dans les calculs et les traitements. Il faut donc nettoyer la base de données."
   ]
  },
  {
   "cell_type": "code",
   "execution_count": 17,
   "metadata": {},
   "outputs": [],
   "source": [
    "from cmath import nan\n",
    "\n",
    "\n",
    "df = pd.DataFrame({\n",
    "    \"nom\": [\"Bernard\", \"Aline\", \"Fred\", \"Marie\"], \n",
    "    \"age\": [38, 24, 46,nan],\n",
    "    \"taille\": [1.82,1.75,1.64,1.70],\n",
    "    \"derniere_mise_a_jour\": [pd.Timestamp(\"20220102\"),pd.Timestamp(\"20220308\"),pd.Timestamp(\"20220811\"),pd.Timestamp(\"20220812\")],\n",
    "    \"logiciel\": [[\"Excel\",\"Pandas\"],[\"Excel\"],[\"Pandas\"],[\"Excel\"]],\n",
    "    \"Male\":[True,False,True,False]\n",
    "    })\n"
   ]
  },
  {
   "cell_type": "code",
   "execution_count": 94,
   "metadata": {},
   "outputs": [
    {
     "data": {
      "text/html": [
       "<div>\n",
       "<style scoped>\n",
       "    .dataframe tbody tr th:only-of-type {\n",
       "        vertical-align: middle;\n",
       "    }\n",
       "\n",
       "    .dataframe tbody tr th {\n",
       "        vertical-align: top;\n",
       "    }\n",
       "\n",
       "    .dataframe thead th {\n",
       "        text-align: right;\n",
       "    }\n",
       "</style>\n",
       "<table border=\"1\" class=\"dataframe\">\n",
       "  <thead>\n",
       "    <tr style=\"text-align: right;\">\n",
       "      <th></th>\n",
       "      <th>nom</th>\n",
       "      <th>age</th>\n",
       "      <th>taille</th>\n",
       "      <th>derniere_mise_a_jour</th>\n",
       "      <th>logiciel</th>\n",
       "      <th>Male</th>\n",
       "    </tr>\n",
       "  </thead>\n",
       "  <tbody>\n",
       "    <tr>\n",
       "      <th>0</th>\n",
       "      <td>False</td>\n",
       "      <td>False</td>\n",
       "      <td>False</td>\n",
       "      <td>False</td>\n",
       "      <td>False</td>\n",
       "      <td>False</td>\n",
       "    </tr>\n",
       "    <tr>\n",
       "      <th>1</th>\n",
       "      <td>False</td>\n",
       "      <td>False</td>\n",
       "      <td>False</td>\n",
       "      <td>False</td>\n",
       "      <td>False</td>\n",
       "      <td>False</td>\n",
       "    </tr>\n",
       "    <tr>\n",
       "      <th>2</th>\n",
       "      <td>False</td>\n",
       "      <td>False</td>\n",
       "      <td>False</td>\n",
       "      <td>False</td>\n",
       "      <td>False</td>\n",
       "      <td>False</td>\n",
       "    </tr>\n",
       "    <tr>\n",
       "      <th>3</th>\n",
       "      <td>False</td>\n",
       "      <td>True</td>\n",
       "      <td>False</td>\n",
       "      <td>False</td>\n",
       "      <td>False</td>\n",
       "      <td>False</td>\n",
       "    </tr>\n",
       "  </tbody>\n",
       "</table>\n",
       "</div>"
      ],
      "text/plain": [
       "     nom    age  taille  derniere_mise_a_jour  logiciel   Male\n",
       "0  False  False   False                 False     False  False\n",
       "1  False  False   False                 False     False  False\n",
       "2  False  False   False                 False     False  False\n",
       "3  False   True   False                 False     False  False"
      ]
     },
     "execution_count": 94,
     "metadata": {},
     "output_type": "execute_result"
    }
   ],
   "source": [
    "# On peut commencer par rechercher ces valeurs manquantes\n",
    "df.info()"
   ]
  },
  {
   "cell_type": "markdown",
   "metadata": {},
   "source": [
    "On peut suivre 4 étapes pour traiter les valeurs manquantes\n",
    "- supprimer les colonnes à la qualité trop faible : celles qui ont entre 50% et 99% de données manquantes \n",
    "- supprimer les lignes des colonnes crtiiques: si une colonne est centrale pour notre analyse, alors les lignes qui ne possèdent pas cette information n'ont aucun interet, on peut donc les supprimer\n",
    "- remplacer les données des autres colonnes: de nombreuses manipulations ne peuvent être réalisées si on a des na, il faut donc remplacer les na par quelques choses pour pouvoir les traiter, il existe plusieurs stratégies:\n",
    "    - une valeur indentifiable: 0 , \"pas de données\"\n",
    "    - une valeur statistiquement plausible\n",
    "        - la moyenne\n",
    "        - la valeur de la donnée précédente ou suivante"
   ]
  },
  {
   "cell_type": "code",
   "execution_count": 8,
   "metadata": {},
   "outputs": [
    {
     "data": {
      "text/html": [
       "<div>\n",
       "<style scoped>\n",
       "    .dataframe tbody tr th:only-of-type {\n",
       "        vertical-align: middle;\n",
       "    }\n",
       "\n",
       "    .dataframe tbody tr th {\n",
       "        vertical-align: top;\n",
       "    }\n",
       "\n",
       "    .dataframe thead th {\n",
       "        text-align: right;\n",
       "    }\n",
       "</style>\n",
       "<table border=\"1\" class=\"dataframe\">\n",
       "  <thead>\n",
       "    <tr style=\"text-align: right;\">\n",
       "      <th></th>\n",
       "      <th>nom</th>\n",
       "      <th>age</th>\n",
       "      <th>taille</th>\n",
       "      <th>derniere_mise_a_jour</th>\n",
       "      <th>logiciel</th>\n",
       "      <th>Male</th>\n",
       "    </tr>\n",
       "  </thead>\n",
       "  <tbody>\n",
       "    <tr>\n",
       "      <th>0</th>\n",
       "      <td>Bernard</td>\n",
       "      <td>38.0</td>\n",
       "      <td>1.82</td>\n",
       "      <td>2022-01-02</td>\n",
       "      <td>[Excel, Pandas]</td>\n",
       "      <td>True</td>\n",
       "    </tr>\n",
       "    <tr>\n",
       "      <th>1</th>\n",
       "      <td>Aline</td>\n",
       "      <td>24.0</td>\n",
       "      <td>1.75</td>\n",
       "      <td>2022-03-08</td>\n",
       "      <td>[Excel]</td>\n",
       "      <td>False</td>\n",
       "    </tr>\n",
       "    <tr>\n",
       "      <th>2</th>\n",
       "      <td>Fred</td>\n",
       "      <td>46.0</td>\n",
       "      <td>1.64</td>\n",
       "      <td>2022-08-11</td>\n",
       "      <td>[Pandas]</td>\n",
       "      <td>True</td>\n",
       "    </tr>\n",
       "  </tbody>\n",
       "</table>\n",
       "</div>"
      ],
      "text/plain": [
       "       nom   age  taille derniere_mise_a_jour         logiciel   Male\n",
       "0  Bernard  38.0    1.82           2022-01-02  [Excel, Pandas]   True\n",
       "1    Aline  24.0    1.75           2022-03-08          [Excel]  False\n",
       "2     Fred  46.0    1.64           2022-08-11         [Pandas]   True"
      ]
     },
     "execution_count": 8,
     "metadata": {},
     "output_type": "execute_result"
    }
   ],
   "source": [
    "#supprimer les colonnes à la qualité trop faible\n",
    "\n",
    "df.drop([\"liste\",\"des\",\"colonnes\",\"a\",\"supprimer\"])\n",
    "\n",
    "# supprimer les lignes des colonnes crtiiques\n",
    "df = df.dropna(subset=['age'])\n",
    "\n",
    "# remplacer les données des autres colonnes\n",
    "\n",
    "    # par une valeur identifiable\n",
    "df = df[\"age\"].fillna(25)\n",
    "\n",
    "    # par une valeur statistiquement plausible\n",
    "df = df[\"age\"].fillna(df[\"age\"].mean())\n",
    "\n",
    "df = df[\"age\"].fillna(method=\"ffil\")"
   ]
  },
  {
   "cell_type": "code",
   "execution_count": 9,
   "metadata": {},
   "outputs": [
    {
     "data": {
      "text/html": [
       "<div>\n",
       "<style scoped>\n",
       "    .dataframe tbody tr th:only-of-type {\n",
       "        vertical-align: middle;\n",
       "    }\n",
       "\n",
       "    .dataframe tbody tr th {\n",
       "        vertical-align: top;\n",
       "    }\n",
       "\n",
       "    .dataframe thead th {\n",
       "        text-align: right;\n",
       "    }\n",
       "</style>\n",
       "<table border=\"1\" class=\"dataframe\">\n",
       "  <thead>\n",
       "    <tr style=\"text-align: right;\">\n",
       "      <th></th>\n",
       "      <th>nom</th>\n",
       "      <th>age</th>\n",
       "      <th>taille</th>\n",
       "      <th>derniere_mise_a_jour</th>\n",
       "      <th>logiciel</th>\n",
       "      <th>Male</th>\n",
       "    </tr>\n",
       "  </thead>\n",
       "  <tbody>\n",
       "    <tr>\n",
       "      <th>0</th>\n",
       "      <td>Bernard</td>\n",
       "      <td>38.0</td>\n",
       "      <td>1.82</td>\n",
       "      <td>2022-01-02</td>\n",
       "      <td>[Excel, Pandas]</td>\n",
       "      <td>True</td>\n",
       "    </tr>\n",
       "    <tr>\n",
       "      <th>1</th>\n",
       "      <td>Aline</td>\n",
       "      <td>24.0</td>\n",
       "      <td>1.75</td>\n",
       "      <td>2022-03-08</td>\n",
       "      <td>[Excel]</td>\n",
       "      <td>False</td>\n",
       "    </tr>\n",
       "    <tr>\n",
       "      <th>2</th>\n",
       "      <td>Fred</td>\n",
       "      <td>46.0</td>\n",
       "      <td>1.64</td>\n",
       "      <td>2022-08-11</td>\n",
       "      <td>[Pandas]</td>\n",
       "      <td>True</td>\n",
       "    </tr>\n",
       "    <tr>\n",
       "      <th>3</th>\n",
       "      <td>Marie</td>\n",
       "      <td>25.0</td>\n",
       "      <td>1.70</td>\n",
       "      <td>2022-08-12</td>\n",
       "      <td>[Excel]</td>\n",
       "      <td>False</td>\n",
       "    </tr>\n",
       "  </tbody>\n",
       "</table>\n",
       "</div>"
      ],
      "text/plain": [
       "       nom   age  taille derniere_mise_a_jour         logiciel   Male\n",
       "0  Bernard  38.0    1.82           2022-01-02  [Excel, Pandas]   True\n",
       "1    Aline  24.0    1.75           2022-03-08          [Excel]  False\n",
       "2     Fred  46.0    1.64           2022-08-11         [Pandas]   True\n",
       "3    Marie  25.0    1.70           2022-08-12          [Excel]  False"
      ]
     },
     "execution_count": 9,
     "metadata": {},
     "output_type": "execute_result"
    }
   ],
   "source": [
    "#On peut choisir de remplacer cette valeur\n",
    "df.fillna(value=25)"
   ]
  },
  {
   "cell_type": "markdown",
   "metadata": {},
   "source": [
    "On peut aussi remplacer les valeurs manquantes suivant des méthodes indiquées avec l'argument nommé `method` :\n",
    "\n",
    "- `'ffill'` pour *forward fill*, c'est-à-dire en utilisant la dernière valeur présente :"
   ]
  },
  {
   "cell_type": "code",
   "execution_count": null,
   "metadata": {},
   "outputs": [],
   "source": [
    "df.fillna(method='ffill')"
   ]
  },
  {
   "cell_type": "markdown",
   "metadata": {},
   "source": [
    "Supposons maintenant que la base de données soit mal renseignée et qu'une information s'y retrouve en double"
   ]
  },
  {
   "cell_type": "markdown",
   "metadata": {},
   "source": [
    "## Supprimer les doublons"
   ]
  },
  {
   "cell_type": "code",
   "execution_count": 10,
   "metadata": {},
   "outputs": [
    {
     "data": {
      "text/plain": [
       "<bound method DataFrame.drop_duplicates of        nom   age  taille derniere_mise_a_jour         logiciel   Male\n",
       "0  Bernard  38.0    1.82           2022-01-02  [Excel, Pandas]   True\n",
       "1    Aline  24.0    1.75           2022-03-08          [Excel]  False\n",
       "2     Fred  46.0    1.64           2022-08-11         [Pandas]   True\n",
       "3    Marie   NaN    1.70           2022-08-12          [Excel]  False>"
      ]
     },
     "execution_count": 10,
     "metadata": {},
     "output_type": "execute_result"
    }
   ],
   "source": [
    "df.drop_duplicates"
   ]
  },
  {
   "cell_type": "markdown",
   "metadata": {},
   "source": [
    "## Conversion des types"
   ]
  },
  {
   "cell_type": "markdown",
   "metadata": {},
   "source": [
    "On peut utiliser la méthode `astype` pour changer le type d'une `Colonne` :"
   ]
  },
  {
   "cell_type": "code",
   "execution_count": 18,
   "metadata": {},
   "outputs": [
    {
     "data": {
      "text/plain": [
       "0    38.0\n",
       "1    24.0\n",
       "2    46.0\n",
       "3     nan\n",
       "Name: age, dtype: object"
      ]
     },
     "execution_count": 18,
     "metadata": {},
     "output_type": "execute_result"
    }
   ],
   "source": [
    "df.age = df.age.astype('str')\n",
    "\n",
    "df.age.dtype\n",
    "df.age"
   ]
  },
  {
   "cell_type": "code",
   "execution_count": null,
   "metadata": {},
   "outputs": [],
   "source": [
    "# Exercice: essayez de deviner le résultat de cette opération:\n",
    "df.age.astype('str') + df.age.astype('str')"
   ]
  },
  {
   "cell_type": "markdown",
   "metadata": {},
   "source": [
    "**`Exercice`**: \n",
    "- Utilisez à nouveau la table airbnb. Recherchez les valeurs nulles et proposez une méthode pour les traiter.\n",
    "- Explorez le type des colonnes price et service fees, trouvez le moyen de les mettre au bon format. "
   ]
  },
  {
   "cell_type": "markdown",
   "metadata": {},
   "source": [
    "## Consistance des données"
   ]
  },
  {
   "cell_type": "markdown",
   "metadata": {},
   "source": [
    "La consistance des données est la dernière grande étape du nettoyage de données.\n",
    "Elle consiste à uniformiser les valeurs catégorielles et à supprimer les valeurs abbérantes des variables numériques. Pour faire cela il faut maitriser les opérations d'agrégation du les données.\n",
    "Nous allons donc les étudier."
   ]
  },
  {
   "cell_type": "markdown",
   "metadata": {},
   "source": [
    "# 4. Aggrégats "
   ]
  },
  {
   "cell_type": "markdown",
   "metadata": {},
   "source": [
    "## Groupby"
   ]
  },
  {
   "cell_type": "markdown",
   "metadata": {},
   "source": [
    "On peut calculer des valeurs pour décrire les colonnes d'une\n",
    "`DataFrame` avec les méthodes suivantes:\n",
    "\n",
    "-   'sum'\n",
    "-   'count'\n",
    "-   'median'\n",
    "-   'quantile'\n",
    "-   'min'\n",
    "-   'max'\n",
    "-   'mean'\n",
    "-   'var'\n",
    "-   'std'\n",
    "\n",
    "On peut aussi appliquer n'importe quelle fonction python en la passant\n",
    "en argument à la méthode `apply` (mais attention à la performance).\n",
    "\n"
   ]
  },
  {
   "cell_type": "code",
   "execution_count": null,
   "metadata": {},
   "outputs": [
    {
     "data": {
      "text/html": [
       "<div>\n",
       "<style scoped>\n",
       "    .dataframe tbody tr th:only-of-type {\n",
       "        vertical-align: middle;\n",
       "    }\n",
       "\n",
       "    .dataframe tbody tr th {\n",
       "        vertical-align: top;\n",
       "    }\n",
       "\n",
       "    .dataframe thead th {\n",
       "        text-align: right;\n",
       "    }\n",
       "</style>\n",
       "<table border=\"1\" class=\"dataframe\">\n",
       "  <thead>\n",
       "    <tr style=\"text-align: right;\">\n",
       "      <th></th>\n",
       "      <th>Population</th>\n",
       "      <th>Superficie</th>\n",
       "    </tr>\n",
       "  </thead>\n",
       "  <tbody>\n",
       "    <tr>\n",
       "      <th>0.25</th>\n",
       "      <td>64052.50</td>\n",
       "      <td>26.5475</td>\n",
       "    </tr>\n",
       "    <tr>\n",
       "      <th>0.50</th>\n",
       "      <td>164645.50</td>\n",
       "      <td>40.4350</td>\n",
       "    </tr>\n",
       "    <tr>\n",
       "      <th>0.75</th>\n",
       "      <td>736611.75</td>\n",
       "      <td>63.3700</td>\n",
       "    </tr>\n",
       "  </tbody>\n",
       "</table>\n",
       "</div>"
      ],
      "text/plain": [
       "      Population  Superficie\n",
       "0.25    64052.50     26.5475\n",
       "0.50   164645.50     40.4350\n",
       "0.75   736611.75     63.3700"
      ]
     },
     "metadata": {},
     "output_type": "display_data"
    }
   ],
   "source": [
    "df= pd.DataFrame([[\"Paris\",2190327,105.4],[\"Pau\", 77251,31.51],[\"Biarritz\", 24457,11.66],[\"Bordeaux\",252040, 49.36]], columns=['Nom', 'Population', 'Superficie'])\n",
    "df.quantile([0.25,0.5,0.75])"
   ]
  },
  {
   "cell_type": "code",
   "execution_count": null,
   "metadata": {},
   "outputs": [
    {
     "data": {
      "text/html": [
       "<div>\n",
       "<style scoped>\n",
       "    .dataframe tbody tr th:only-of-type {\n",
       "        vertical-align: middle;\n",
       "    }\n",
       "\n",
       "    .dataframe tbody tr th {\n",
       "        vertical-align: top;\n",
       "    }\n",
       "\n",
       "    .dataframe thead th {\n",
       "        text-align: right;\n",
       "    }\n",
       "</style>\n",
       "<table border=\"1\" class=\"dataframe\">\n",
       "  <thead>\n",
       "    <tr style=\"text-align: right;\">\n",
       "      <th></th>\n",
       "      <th>age</th>\n",
       "      <th>taille</th>\n",
       "    </tr>\n",
       "  </thead>\n",
       "  <tbody>\n",
       "    <tr>\n",
       "      <th>count</th>\n",
       "      <td>3.000000</td>\n",
       "      <td>4.000000</td>\n",
       "    </tr>\n",
       "    <tr>\n",
       "      <th>mean</th>\n",
       "      <td>36.000000</td>\n",
       "      <td>1.727500</td>\n",
       "    </tr>\n",
       "    <tr>\n",
       "      <th>std</th>\n",
       "      <td>11.135529</td>\n",
       "      <td>0.076322</td>\n",
       "    </tr>\n",
       "    <tr>\n",
       "      <th>min</th>\n",
       "      <td>24.000000</td>\n",
       "      <td>1.640000</td>\n",
       "    </tr>\n",
       "    <tr>\n",
       "      <th>25%</th>\n",
       "      <td>31.000000</td>\n",
       "      <td>1.685000</td>\n",
       "    </tr>\n",
       "    <tr>\n",
       "      <th>50%</th>\n",
       "      <td>38.000000</td>\n",
       "      <td>1.725000</td>\n",
       "    </tr>\n",
       "    <tr>\n",
       "      <th>75%</th>\n",
       "      <td>42.000000</td>\n",
       "      <td>1.767500</td>\n",
       "    </tr>\n",
       "    <tr>\n",
       "      <th>max</th>\n",
       "      <td>46.000000</td>\n",
       "      <td>1.820000</td>\n",
       "    </tr>\n",
       "  </tbody>\n",
       "</table>\n",
       "</div>"
      ],
      "text/plain": [
       "             age    taille\n",
       "count   3.000000  4.000000\n",
       "mean   36.000000  1.727500\n",
       "std    11.135529  0.076322\n",
       "min    24.000000  1.640000\n",
       "25%    31.000000  1.685000\n",
       "50%    38.000000  1.725000\n",
       "75%    42.000000  1.767500\n",
       "max    46.000000  1.820000"
      ]
     },
     "metadata": {},
     "output_type": "display_data"
    }
   ],
   "source": [
    "# Ou plus simplement:\n",
    "df.describe()"
   ]
  },
  {
   "cell_type": "markdown",
   "metadata": {},
   "source": [
    "On peut aussi effectuer ces calculs sur des aggrégats calculés en regroupant les lignes d'une `DataFrame` ayant la même valeur pour une colonne donnée :\n",
    "\n"
   ]
  },
  {
   "cell_type": "code",
   "execution_count": 6,
   "metadata": {},
   "outputs": [
    {
     "name": "stderr",
     "output_type": "stream",
     "text": [
      "/var/folders/py/4rt338cj1ks4z3332m7l3f880000gp/T/ipykernel_54903/2488036304.py:4: FutureWarning: The default value of numeric_only in DataFrameGroupBy.median is deprecated. In a future version, numeric_only will default to False. Either specify numeric_only or select only columns which should be valid for the function.\n",
      "  gb=df.groupby(by='Région').median()\n"
     ]
    },
    {
     "data": {
      "text/html": [
       "<div>\n",
       "<style scoped>\n",
       "    .dataframe tbody tr th:only-of-type {\n",
       "        vertical-align: middle;\n",
       "    }\n",
       "\n",
       "    .dataframe tbody tr th {\n",
       "        vertical-align: top;\n",
       "    }\n",
       "\n",
       "    .dataframe thead th {\n",
       "        text-align: right;\n",
       "    }\n",
       "</style>\n",
       "<table border=\"1\" class=\"dataframe\">\n",
       "  <thead>\n",
       "    <tr style=\"text-align: right;\">\n",
       "      <th></th>\n",
       "      <th>Population</th>\n",
       "      <th>Superficie</th>\n",
       "    </tr>\n",
       "    <tr>\n",
       "      <th>Région</th>\n",
       "      <th></th>\n",
       "      <th></th>\n",
       "    </tr>\n",
       "  </thead>\n",
       "  <tbody>\n",
       "    <tr>\n",
       "      <th>Nouvelle-Aquitaine</th>\n",
       "      <td>77251.0</td>\n",
       "      <td>31.51</td>\n",
       "    </tr>\n",
       "    <tr>\n",
       "      <th>Île-de-France</th>\n",
       "      <td>1149364.5</td>\n",
       "      <td>57.16</td>\n",
       "    </tr>\n",
       "  </tbody>\n",
       "</table>\n",
       "</div>"
      ],
      "text/plain": [
       "                    Population  Superficie\n",
       "Région                                    \n",
       "Nouvelle-Aquitaine     77251.0       31.51\n",
       "Île-de-France        1149364.5       57.16"
      ]
     },
     "execution_count": 6,
     "metadata": {},
     "output_type": "execute_result"
    }
   ],
   "source": [
    "df= pd.DataFrame([[\"Paris\",\"Île-de-France\",2190327,105.4],[\"Pau\", \"Nouvelle-Aquitaine\", 77251,31.51],\n",
    "                  [\"Biarritz\", \"Nouvelle-Aquitaine\", 24457,11.66],[\"Bordeaux\", \"Nouvelle-Aquitaine\",252040, 49.36],\n",
    "                 [\"Montreuil\", \"Île-de-France\",108402, 8.92]], columns=['Nom', 'Région', 'Population', 'Superficie'])\n",
    "gb=df.groupby(by='Région').median()\n",
    "gb"
   ]
  },
  {
   "cell_type": "code",
   "execution_count": null,
   "metadata": {},
   "outputs": [
    {
     "data": {
      "text/html": [
       "<div>\n",
       "<style scoped>\n",
       "    .dataframe tbody tr th:only-of-type {\n",
       "        vertical-align: middle;\n",
       "    }\n",
       "\n",
       "    .dataframe tbody tr th {\n",
       "        vertical-align: top;\n",
       "    }\n",
       "\n",
       "    .dataframe thead th {\n",
       "        text-align: right;\n",
       "    }\n",
       "</style>\n",
       "<table border=\"1\" class=\"dataframe\">\n",
       "  <thead>\n",
       "    <tr style=\"text-align: right;\">\n",
       "      <th></th>\n",
       "      <th>Nom</th>\n",
       "      <th>Population</th>\n",
       "      <th>Superficie</th>\n",
       "    </tr>\n",
       "    <tr>\n",
       "      <th>Région</th>\n",
       "      <th></th>\n",
       "      <th></th>\n",
       "      <th></th>\n",
       "    </tr>\n",
       "  </thead>\n",
       "  <tbody>\n",
       "    <tr>\n",
       "      <th>Nouvelle-Aquitaine</th>\n",
       "      <td>Biarritz</td>\n",
       "      <td>24457</td>\n",
       "      <td>11.66</td>\n",
       "    </tr>\n",
       "    <tr>\n",
       "      <th>Île-de-France</th>\n",
       "      <td>Montreuil</td>\n",
       "      <td>108402</td>\n",
       "      <td>8.92</td>\n",
       "    </tr>\n",
       "  </tbody>\n",
       "</table>\n",
       "</div>"
      ],
      "text/plain": [
       "                          Nom  Population  Superficie\n",
       "Région                                               \n",
       "Nouvelle-Aquitaine   Biarritz       24457       11.66\n",
       "Île-de-France       Montreuil      108402        8.92"
      ]
     },
     "metadata": {},
     "output_type": "display_data"
    }
   ],
   "source": [
    "gb=df.groupby(by='Région').min()\n",
    "gb"
   ]
  },
  {
   "cell_type": "markdown",
   "metadata": {},
   "source": [
    "On peut aussi appeler la méthode `size` pour connaitre les effectifs\n",
    "de chaque aggrégat :\n",
    "\n"
   ]
  },
  {
   "cell_type": "code",
   "execution_count": null,
   "metadata": {},
   "outputs": [
    {
     "data": {
      "text/plain": [
       "Région\n",
       "Nouvelle-Aquitaine    3\n",
       "Île-de-France         2\n",
       "dtype: int64"
      ]
     },
     "metadata": {},
     "output_type": "display_data"
    }
   ],
   "source": [
    "gb=df.groupby(by='Région').size()\n",
    "gb"
   ]
  },
  {
   "cell_type": "markdown",
   "metadata": {},
   "source": [
    "On prefère cependant à cette dernière méthode, la méthode value_counts()"
   ]
  },
  {
   "cell_type": "code",
   "execution_count": null,
   "metadata": {},
   "outputs": [],
   "source": [
    "df.value_counts()"
   ]
  },
  {
   "cell_type": "markdown",
   "metadata": {},
   "source": [
    "On peut également obtenir plusieurs indicateurs avec la méthode agg()"
   ]
  },
  {
   "cell_type": "code",
   "execution_count": 8,
   "metadata": {},
   "outputs": [
    {
     "data": {
      "text/html": [
       "<div>\n",
       "<style scoped>\n",
       "    .dataframe tbody tr th:only-of-type {\n",
       "        vertical-align: middle;\n",
       "    }\n",
       "\n",
       "    .dataframe tbody tr th {\n",
       "        vertical-align: top;\n",
       "    }\n",
       "\n",
       "    .dataframe thead tr th {\n",
       "        text-align: left;\n",
       "    }\n",
       "\n",
       "    .dataframe thead tr:last-of-type th {\n",
       "        text-align: right;\n",
       "    }\n",
       "</style>\n",
       "<table border=\"1\" class=\"dataframe\">\n",
       "  <thead>\n",
       "    <tr>\n",
       "      <th></th>\n",
       "      <th></th>\n",
       "      <th colspan=\"2\" halign=\"left\">Population</th>\n",
       "      <th colspan=\"2\" halign=\"left\">Superficie</th>\n",
       "    </tr>\n",
       "    <tr>\n",
       "      <th></th>\n",
       "      <th></th>\n",
       "      <th>min</th>\n",
       "      <th>std</th>\n",
       "      <th>min</th>\n",
       "      <th>std</th>\n",
       "    </tr>\n",
       "    <tr>\n",
       "      <th>Région</th>\n",
       "      <th>Nom</th>\n",
       "      <th></th>\n",
       "      <th></th>\n",
       "      <th></th>\n",
       "      <th></th>\n",
       "    </tr>\n",
       "  </thead>\n",
       "  <tbody>\n",
       "    <tr>\n",
       "      <th rowspan=\"3\" valign=\"top\">Nouvelle-Aquitaine</th>\n",
       "      <th>Biarritz</th>\n",
       "      <td>24457</td>\n",
       "      <td>NaN</td>\n",
       "      <td>11.66</td>\n",
       "      <td>NaN</td>\n",
       "    </tr>\n",
       "    <tr>\n",
       "      <th>Bordeaux</th>\n",
       "      <td>252040</td>\n",
       "      <td>NaN</td>\n",
       "      <td>49.36</td>\n",
       "      <td>NaN</td>\n",
       "    </tr>\n",
       "    <tr>\n",
       "      <th>Pau</th>\n",
       "      <td>77251</td>\n",
       "      <td>NaN</td>\n",
       "      <td>31.51</td>\n",
       "      <td>NaN</td>\n",
       "    </tr>\n",
       "    <tr>\n",
       "      <th rowspan=\"2\" valign=\"top\">Île-de-France</th>\n",
       "      <th>Montreuil</th>\n",
       "      <td>108402</td>\n",
       "      <td>NaN</td>\n",
       "      <td>8.92</td>\n",
       "      <td>NaN</td>\n",
       "    </tr>\n",
       "    <tr>\n",
       "      <th>Paris</th>\n",
       "      <td>2190327</td>\n",
       "      <td>NaN</td>\n",
       "      <td>105.40</td>\n",
       "      <td>NaN</td>\n",
       "    </tr>\n",
       "  </tbody>\n",
       "</table>\n",
       "</div>"
      ],
      "text/plain": [
       "                             Population     Superficie    \n",
       "                                    min std        min std\n",
       "Région             Nom                                    \n",
       "Nouvelle-Aquitaine Biarritz       24457 NaN      11.66 NaN\n",
       "                   Bordeaux      252040 NaN      49.36 NaN\n",
       "                   Pau            77251 NaN      31.51 NaN\n",
       "Île-de-France      Montreuil     108402 NaN       8.92 NaN\n",
       "                   Paris        2190327 NaN     105.40 NaN"
      ]
     },
     "execution_count": 8,
     "metadata": {},
     "output_type": "execute_result"
    }
   ],
   "source": [
    "df.groupby(by=['Région','Nom']).agg([\"min\",\"std\"])"
   ]
  },
  {
   "cell_type": "markdown",
   "metadata": {},
   "source": [
    "Bien sûr, cet aperçu ne fait qu'effleurer les possibilités de [groupby](https://pandas.pydata.org/pandas-docs/stable/user_guide/groupby.html) !\n",
    "\n"
   ]
  },
  {
   "cell_type": "markdown",
   "metadata": {},
   "source": [
    "`Exercice`:\n",
    "A partir de la table airbnb, calculez: \n",
    "- l'année de construction moyenne en fonction de \"group_neibourhood\"\n",
    "- le nombre de revue maximum en fonction de la validation de l'annonce et du type de chambre"
   ]
  },
  {
   "cell_type": "markdown",
   "metadata": {},
   "source": [
    "## Les pivots tables"
   ]
  },
  {
   "cell_type": "markdown",
   "metadata": {},
   "source": [
    "Il est possible avec de pandas de réaliser une pivot table comme avec excel, on utilise pour ça la méthode .pivot_table() qui prend 4 arguments:\n",
    "- index : variable(s) placée(s) en ligne \n",
    "- columns : variable(s) placée en colonne(s) \n",
    "- values : variable sur laquelle on va appliquer la fonction d’agrégation\n",
    "- aggfunc : fonction d’agrégation\n",
    "\n",
    "Exemple:"
   ]
  },
  {
   "cell_type": "code",
   "execution_count": null,
   "metadata": {},
   "outputs": [
    {
     "data": {
      "text/html": [
       "<div>\n",
       "<style scoped>\n",
       "    .dataframe tbody tr th:only-of-type {\n",
       "        vertical-align: middle;\n",
       "    }\n",
       "\n",
       "    .dataframe tbody tr th {\n",
       "        vertical-align: top;\n",
       "    }\n",
       "\n",
       "    .dataframe thead th {\n",
       "        text-align: right;\n",
       "    }\n",
       "</style>\n",
       "<table border=\"1\" class=\"dataframe\">\n",
       "  <thead>\n",
       "    <tr style=\"text-align: right;\">\n",
       "      <th>logiciel</th>\n",
       "      <th>Excel</th>\n",
       "      <th>Pandas</th>\n",
       "    </tr>\n",
       "    <tr>\n",
       "      <th>Male</th>\n",
       "      <th></th>\n",
       "      <th></th>\n",
       "    </tr>\n",
       "  </thead>\n",
       "  <tbody>\n",
       "    <tr>\n",
       "      <th>False</th>\n",
       "      <td>1.70</td>\n",
       "      <td>1.75</td>\n",
       "    </tr>\n",
       "    <tr>\n",
       "      <th>True</th>\n",
       "      <td>1.82</td>\n",
       "      <td>1.64</td>\n",
       "    </tr>\n",
       "  </tbody>\n",
       "</table>\n",
       "</div>"
      ],
      "text/plain": [
       "logiciel  Excel  Pandas\n",
       "Male                   \n",
       "False      1.70    1.75\n",
       "True       1.82    1.64"
      ]
     },
     "metadata": {},
     "output_type": "display_data"
    }
   ],
   "source": [
    "df = pd.DataFrame({\n",
    "    \"nom\": [\"Bernard\", \"Aline\", \"Fred\", \"Marie\"], \n",
    "    \"age\": [38, 24, 46,32],\n",
    "    \"taille\": [1.82,1.75,1.64,1.70],\n",
    "    \"derniere_mise_a_jour\": [pd.Timestamp(\"20220102\"),pd.Timestamp(\"20220308\"),pd.Timestamp(\"20220811\"),pd.Timestamp(\"20220812\")],\n",
    "    \"logiciel\": [\"Excel\",\"Pandas\",\"Pandas\",\"Excel\"],\n",
    "    \"Male\":[True,False,True,False]\n",
    "    })\n",
    "\n",
    "df.pivot_table(index=\"Male\", columns = \"logiciel\", values=\"taille\", aggfunc = \"min\")\n",
    "\n",
    "# on pourrait certainement trouver des exemples plus interessants"
   ]
  },
  {
   "cell_type": "markdown",
   "metadata": {},
   "source": [
    "`Exercice`:  \n",
    "A partir de la table airbnb en faisant un tableau croisé dynamique, calculez :\n",
    "- l'année de construction moyenne en fonction de \"group_neibourhood\" \n",
    "- le nombre de revue maximum en fonction de la validation de l'annonce et du type de chambre"
   ]
  },
  {
   "cell_type": "markdown",
   "metadata": {},
   "source": [
    "# 5. Opérations d'ensemble"
   ]
  },
  {
   "cell_type": "markdown",
   "metadata": {},
   "source": [
    "## Concaténations avec concat"
   ]
  },
  {
   "cell_type": "markdown",
   "metadata": {},
   "source": [
    "Les exemples ci-après illustrent la concaténation (ou plutôt les façons de concaterner) de deux `DataFrame`:\n",
    "\n"
   ]
  },
  {
   "cell_type": "code",
   "execution_count": null,
   "metadata": {},
   "outputs": [
    {
     "data": {
      "text/html": [
       "<div>\n",
       "<style scoped>\n",
       "    .dataframe tbody tr th:only-of-type {\n",
       "        vertical-align: middle;\n",
       "    }\n",
       "\n",
       "    .dataframe tbody tr th {\n",
       "        vertical-align: top;\n",
       "    }\n",
       "\n",
       "    .dataframe thead th {\n",
       "        text-align: right;\n",
       "    }\n",
       "</style>\n",
       "<table border=\"1\" class=\"dataframe\">\n",
       "  <thead>\n",
       "    <tr style=\"text-align: right;\">\n",
       "      <th></th>\n",
       "      <th>A</th>\n",
       "      <th>B</th>\n",
       "    </tr>\n",
       "  </thead>\n",
       "  <tbody>\n",
       "    <tr>\n",
       "      <th>0</th>\n",
       "      <td>3</td>\n",
       "      <td>1</td>\n",
       "    </tr>\n",
       "    <tr>\n",
       "      <th>1</th>\n",
       "      <td>5</td>\n",
       "      <td>2</td>\n",
       "    </tr>\n",
       "  </tbody>\n",
       "</table>\n",
       "</div>"
      ],
      "text/plain": [
       "   A  B\n",
       "0  3  1\n",
       "1  5  2"
      ]
     },
     "metadata": {},
     "output_type": "display_data"
    }
   ],
   "source": [
    "df1 = pd.DataFrame({'A': [3, 5], 'B': [1, 2]})\n",
    "df1"
   ]
  },
  {
   "cell_type": "code",
   "execution_count": null,
   "metadata": {},
   "outputs": [
    {
     "data": {
      "text/html": [
       "<div>\n",
       "<style scoped>\n",
       "    .dataframe tbody tr th:only-of-type {\n",
       "        vertical-align: middle;\n",
       "    }\n",
       "\n",
       "    .dataframe tbody tr th {\n",
       "        vertical-align: top;\n",
       "    }\n",
       "\n",
       "    .dataframe thead th {\n",
       "        text-align: right;\n",
       "    }\n",
       "</style>\n",
       "<table border=\"1\" class=\"dataframe\">\n",
       "  <thead>\n",
       "    <tr style=\"text-align: right;\">\n",
       "      <th></th>\n",
       "      <th>A</th>\n",
       "      <th>B</th>\n",
       "    </tr>\n",
       "  </thead>\n",
       "  <tbody>\n",
       "    <tr>\n",
       "      <th>0</th>\n",
       "      <td>6</td>\n",
       "      <td>4</td>\n",
       "    </tr>\n",
       "    <tr>\n",
       "      <th>1</th>\n",
       "      <td>7</td>\n",
       "      <td>9</td>\n",
       "    </tr>\n",
       "  </tbody>\n",
       "</table>\n",
       "</div>"
      ],
      "text/plain": [
       "   A  B\n",
       "0  6  4\n",
       "1  7  9"
      ]
     },
     "metadata": {},
     "output_type": "display_data"
    }
   ],
   "source": [
    "df2 = pd.DataFrame({'A': [6, 7], 'B': [4, 9]})\n",
    "df2"
   ]
  },
  {
   "cell_type": "code",
   "execution_count": null,
   "metadata": {},
   "outputs": [
    {
     "data": {
      "text/html": [
       "<div>\n",
       "<style scoped>\n",
       "    .dataframe tbody tr th:only-of-type {\n",
       "        vertical-align: middle;\n",
       "    }\n",
       "\n",
       "    .dataframe tbody tr th {\n",
       "        vertical-align: top;\n",
       "    }\n",
       "\n",
       "    .dataframe thead th {\n",
       "        text-align: right;\n",
       "    }\n",
       "</style>\n",
       "<table border=\"1\" class=\"dataframe\">\n",
       "  <thead>\n",
       "    <tr style=\"text-align: right;\">\n",
       "      <th></th>\n",
       "      <th>A</th>\n",
       "      <th>B</th>\n",
       "    </tr>\n",
       "  </thead>\n",
       "  <tbody>\n",
       "    <tr>\n",
       "      <th>0</th>\n",
       "      <td>3</td>\n",
       "      <td>1</td>\n",
       "    </tr>\n",
       "    <tr>\n",
       "      <th>1</th>\n",
       "      <td>5</td>\n",
       "      <td>2</td>\n",
       "    </tr>\n",
       "    <tr>\n",
       "      <th>0</th>\n",
       "      <td>6</td>\n",
       "      <td>4</td>\n",
       "    </tr>\n",
       "    <tr>\n",
       "      <th>1</th>\n",
       "      <td>7</td>\n",
       "      <td>9</td>\n",
       "    </tr>\n",
       "  </tbody>\n",
       "</table>\n",
       "</div>"
      ],
      "text/plain": [
       "   A  B\n",
       "0  3  1\n",
       "1  5  2\n",
       "0  6  4\n",
       "1  7  9"
      ]
     },
     "metadata": {},
     "output_type": "display_data"
    }
   ],
   "source": [
    "# Si on concatène directement on va avoir un problème d'indice dans la table crée\n",
    "pd.concat([df1, df2])"
   ]
  },
  {
   "cell_type": "code",
   "execution_count": null,
   "metadata": {},
   "outputs": [
    {
     "data": {
      "text/html": [
       "<div>\n",
       "<style scoped>\n",
       "    .dataframe tbody tr th:only-of-type {\n",
       "        vertical-align: middle;\n",
       "    }\n",
       "\n",
       "    .dataframe tbody tr th {\n",
       "        vertical-align: top;\n",
       "    }\n",
       "\n",
       "    .dataframe thead th {\n",
       "        text-align: right;\n",
       "    }\n",
       "</style>\n",
       "<table border=\"1\" class=\"dataframe\">\n",
       "  <thead>\n",
       "    <tr style=\"text-align: right;\">\n",
       "      <th></th>\n",
       "      <th>A</th>\n",
       "      <th>B</th>\n",
       "    </tr>\n",
       "  </thead>\n",
       "  <tbody>\n",
       "    <tr>\n",
       "      <th>0</th>\n",
       "      <td>3</td>\n",
       "      <td>1</td>\n",
       "    </tr>\n",
       "    <tr>\n",
       "      <th>1</th>\n",
       "      <td>5</td>\n",
       "      <td>2</td>\n",
       "    </tr>\n",
       "    <tr>\n",
       "      <th>2</th>\n",
       "      <td>6</td>\n",
       "      <td>4</td>\n",
       "    </tr>\n",
       "    <tr>\n",
       "      <th>3</th>\n",
       "      <td>7</td>\n",
       "      <td>9</td>\n",
       "    </tr>\n",
       "  </tbody>\n",
       "</table>\n",
       "</div>"
      ],
      "text/plain": [
       "   A  B\n",
       "0  3  1\n",
       "1  5  2\n",
       "2  6  4\n",
       "3  7  9"
      ]
     },
     "metadata": {},
     "output_type": "display_data"
    }
   ],
   "source": [
    "# On va donc ignorer l'index\n",
    "pd.concat([df1, df2], ignore_index = True)"
   ]
  },
  {
   "cell_type": "code",
   "execution_count": null,
   "metadata": {},
   "outputs": [
    {
     "data": {
      "text/html": [
       "<div>\n",
       "<style scoped>\n",
       "    .dataframe tbody tr th:only-of-type {\n",
       "        vertical-align: middle;\n",
       "    }\n",
       "\n",
       "    .dataframe tbody tr th {\n",
       "        vertical-align: top;\n",
       "    }\n",
       "\n",
       "    .dataframe thead th {\n",
       "        text-align: right;\n",
       "    }\n",
       "</style>\n",
       "<table border=\"1\" class=\"dataframe\">\n",
       "  <thead>\n",
       "    <tr style=\"text-align: right;\">\n",
       "      <th></th>\n",
       "      <th>A</th>\n",
       "      <th>B</th>\n",
       "      <th>C</th>\n",
       "      <th>D</th>\n",
       "    </tr>\n",
       "  </thead>\n",
       "  <tbody>\n",
       "    <tr>\n",
       "      <th>0</th>\n",
       "      <td>3</td>\n",
       "      <td>1</td>\n",
       "      <td>6</td>\n",
       "      <td>4</td>\n",
       "    </tr>\n",
       "    <tr>\n",
       "      <th>1</th>\n",
       "      <td>5</td>\n",
       "      <td>2</td>\n",
       "      <td>7</td>\n",
       "      <td>9</td>\n",
       "    </tr>\n",
       "  </tbody>\n",
       "</table>\n",
       "</div>"
      ],
      "text/plain": [
       "   A  B  C  D\n",
       "0  3  1  6  4\n",
       "1  5  2  7  9"
      ]
     },
     "metadata": {},
     "output_type": "display_data"
    }
   ],
   "source": [
    "# On peut aussi concaténer dans le sens des colonnes\n",
    "df1 = pd.DataFrame({'A': [3, 5], 'B': [1, 2]})\n",
    "df2 = pd.DataFrame({'C': [6, 7], 'D': [4, 9]})\n",
    "pd.concat([df1, df2], axis=1)"
   ]
  },
  {
   "cell_type": "markdown",
   "metadata": {},
   "source": [
    "## Jointure avec merge\n",
    "\n"
   ]
  },
  {
   "cell_type": "markdown",
   "metadata": {},
   "source": [
    "Sur le même principe que les jointures de bases de données\n",
    "relationnelles, on peut fusionner les données de deux `DataFrame` avec\n",
    "la méthode `merge`. Par défaut, `merge` utilise le ou les noms de\n",
    "colonne en commun, sinon on peut préciser la colonne de jointure avec\n",
    "l'argument nommé `on` :\n",
    "\n"
   ]
  },
  {
   "cell_type": "code",
   "execution_count": null,
   "metadata": {},
   "outputs": [],
   "source": [
    "df_pop= pd.DataFrame([[\"Paris\",2190327],[\"Pau\", 77251],[\"Biarritz\", 24457],[\"Bodeaux\",252040]], columns=['Nom', 'Population'])\n",
    "df_sup= pd.DataFrame([[\"Pau\",31.51],[\"Biarritz\",11.66],[\"Paris\",105.4],[\"Bordeaux\",49.36]], columns=['Nom', 'Superficie'])\n",
    "df_pop.merge(df_sup)"
   ]
  },
  {
   "cell_type": "markdown",
   "metadata": {},
   "source": [
    "S'il n'y a pas toutes les valeurs de la colonne de jointure dans les deux `DataFrame`, on peut préciser les lignes à obtenir avec l'argument nommé `how` qui peut prendre les valeurs :\n",
    "\n",
    "-   `'left'` : qui considère les lignes de la `DataFrame` de gauche,\n",
    "    c'est-à-dire celle sur laquelle on appelle la méthode `merge`.\n",
    "\n"
   ]
  },
  {
   "cell_type": "code",
   "execution_count": null,
   "metadata": {},
   "outputs": [],
   "source": [
    "df_pop= pd.DataFrame([[\"Paris\",2190327],[\"Pau\", 77251],[\"Biarritz\", 24457],[\"Bodeaux\",252040]], columns=['Nom', 'Population'])\n",
    "df_sup= pd.DataFrame([[\"Pau\",31.51],[\"Biarritz\",11.66],[\"Paris\",105.4],[\"Marseille\",240.6]], columns=['Nom', 'Superficie'])\n",
    "df_pop.merge(df_sup, how='left')"
   ]
  },
  {
   "cell_type": "markdown",
   "metadata": {},
   "source": [
    "-   `'right'` : qui considère les lignes de la `DataFrame` de droite,\n",
    "    c'est-à-dire celle passée en argument à la méthode `merge`.\n",
    "\n"
   ]
  },
  {
   "cell_type": "code",
   "execution_count": null,
   "metadata": {},
   "outputs": [],
   "source": [
    "df_pop= pd.DataFrame([[\"Paris\",2190327],[\"Pau\", 77251],[\"Biarritz\", 24457],[\"Bodeaux\",252040]], columns=['Nom', 'Population'])\n",
    "df_sup= pd.DataFrame([[\"Pau\",31.51],[\"Biarritz\",11.66],[\"Paris\",105.4],[\"Marseille\",240.6]], columns=['Nom', 'Superficie'])\n",
    "df_pop.merge(df_sup, how='right')"
   ]
  },
  {
   "cell_type": "markdown",
   "metadata": {},
   "source": [
    "-   `'inner'` : qui considère l'intersection des lignes de la\n",
    "    `DataFrame` de droite et celles de la `DataFrame` de gauche.\n",
    "\n"
   ]
  },
  {
   "cell_type": "code",
   "execution_count": null,
   "metadata": {},
   "outputs": [],
   "source": [
    "df_pop= pd.DataFrame([[\"Paris\",2190327],[\"Pau\", 77251],[\"Biarritz\", 24457],[\"Bodeaux\",252040]], columns=['Nom', 'Population'])\n",
    "df_sup= pd.DataFrame([[\"Pau\",31.51],[\"Biarritz\",11.66],[\"Paris\",105.4],[\"Marseille\",240.6]], columns=['Nom', 'Superficie'])\n",
    "df_pop.merge(df_sup, how='inner')"
   ]
  },
  {
   "cell_type": "markdown",
   "metadata": {},
   "source": [
    "**Exercice :** Quelle est la valeur par défaut de l'argument `how` ?\n",
    "\n"
   ]
  },
  {
   "cell_type": "markdown",
   "metadata": {},
   "source": [
    "## Liens\n",
    "\n",
    "<https://pandas.pydata.org/docs/user_guide/10min.html#min> : intro en 10 minutes\n",
    "\n",
    "<https://pandas.pydata.org/docs/user_guide/cookbook.html#cookbook> : d'autres utilisations plus avancées\n",
    "\n",
    "<https://www.kaggle.com/learn/pandas>"
   ]
  },
  {
   "cell_type": "code",
   "execution_count": null,
   "metadata": {},
   "outputs": [],
   "source": [
    "df_air_bnb[\"price\"] = df_air_bnb.price.str.slice(start=1).str.replace(',', '', regex=False).astype(\"float\")\n",
    "df_air_bnb[\"service fee\"] = df_air_bnb[\"service fee\"].str.slice(start=1).str.replace(',', '', regex=False).astype(\"float\")"
   ]
  }
 ],
 "metadata": {
  "kernelspec": {
   "display_name": "Python 3.9.12 ('env': venv)",
   "language": "python",
   "name": "python3"
  },
  "language_info": {
   "codemirror_mode": {
    "name": "ipython",
    "version": 3
   },
   "file_extension": ".py",
   "mimetype": "text/x-python",
   "name": "python",
   "nbconvert_exporter": "python",
   "pygments_lexer": "ipython3",
   "version": "3.9.12"
  },
  "orig_nbformat": 4,
  "vscode": {
   "interpreter": {
    "hash": "0607a848ffd73ecc9cc21824b435c3b7f19a6ddc6b88730c443268397d59d817"
   }
  }
 },
 "nbformat": 4,
 "nbformat_minor": 2
}
