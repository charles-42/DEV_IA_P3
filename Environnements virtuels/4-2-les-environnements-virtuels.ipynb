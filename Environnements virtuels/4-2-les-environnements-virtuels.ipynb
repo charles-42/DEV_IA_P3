{
 "cells": [
  {
   "cell_type": "markdown",
   "metadata": {},
   "source": [
    "# Les environnements virtuels"
   ]
  },
  {
   "cell_type": "markdown",
   "metadata": {},
   "source": [
    "Un environnement virtuel est un dossier qui regroupe une certaine version de python et ainsi que certains packages et leurs versions propres à un projet. Le projet sera exécuté au sein de cet environnement.\n",
    "Cela permet:\n",
    "- de garder un environnement léger: savoir quel package il faut installer quand on clone un nouveau projet et non tous les packages de l'ordinateur de la personne qui a créé le projet\n",
    "- connaître la version des packages et des dépendances où le projet fonctionne (des mises à jour peuvent rendre un projet inutilisable)"
   ]
  },
  {
   "cell_type": "markdown",
   "metadata": {},
   "source": [
    "Il existe de nombreux outils de gestion d'environnement virtuel:\n",
    "- venv: inclus dans python\n",
    "- virtualenv: le plus ancien, permet de gérer des versions de python 2\n",
    "- conda: qui vient avec anaconda et mini-conda\n",
    "- Pipenv: la solution en vue, qui regroupe pip et virtualenv"
   ]
  },
  {
   "cell_type": "markdown",
   "metadata": {},
   "source": [
    "## Les commandes importantes en fonction du gestionnaire choisi:"
   ]
  },
  {
   "cell_type": "markdown",
   "metadata": {},
   "source": [
    "### Les commandes de venv"
   ]
  },
  {
   "cell_type": "markdown",
   "metadata": {},
   "source": [
    "Les commandes qu'il faut connaitre (à taper dans le terminal):\n",
    "- **`python -m venv env`** : crée un environnement appelé env\n",
    "- **`venv env/bin/activate`** (Unix) ou **`..\\env\\Scripts\\activate`** (WIndows): active l'environnement virtuel: à partir de maintenant quand on lance un fichier depuis le terminal ou qu'on installe un package avec pip, ce sera dans cet environnement\n",
    "- **`deactivate`** : désactive l'environnement\n",
    "- **`rm -rf env`** : supprimer l'environnement virtuel\n",
    "- **`pip freeze > requirements.txt`** : crée un fichier requirements.txt avec tous les packages du projet et leur version\n",
    "- **`pip install -r requirements.txt`** : installe tous les packages du fichier requirement"
   ]
  },
  {
   "cell_type": "markdown",
   "metadata": {},
   "source": [
    "### Les commandes de conda"
   ]
  },
  {
   "cell_type": "markdown",
   "metadata": {},
   "source": [
    "- **`conda create -n myenv python=3.9 scipy=0.17.3 astroid babel`** :\tCréer un env virtuel\n",
    "- **`conda activate myenv`** :\tactiver un envirionnement virtuel\n",
    "- **`conda deactivate`** :\tdesactiver un environement virtuel\n",
    "- **`conda info --envs`** :\tlister nos env\n",
    "- **`conda list --explicit > requirements.txt`** :\tcréer le fichier de dépendances\n",
    "- **`conda create --name myenv --file requirements.txt`** :\tcréer un env virtuel à partir d'un spec-file\n",
    "- **`conda install --name myenv --file requirements.txt`** :\tinstaller les packages d'un spec file"
   ]
  },
  {
   "cell_type": "markdown",
   "metadata": {},
   "source": [
    "Article médium sur l'équivalent en [Pipenv](https://medium.com/analytics-vidhya/why-pipenv-over-venv-for-python-projects-a51fb6e4f31e) et l'intérêt d'utiliser ce package"
   ]
  }
 ],
 "metadata": {
  "kernelspec": {
   "display_name": "Python 3.9.12 ('env': venv)",
   "language": "python",
   "name": "python3"
  },
  "language_info": {
   "name": "python",
   "version": "3.9.12"
  },
  "orig_nbformat": 4,
  "vscode": {
   "interpreter": {
    "hash": "f9351f71b73ea8a230435cc436bb534a46778c892f07a974c8047a435918be1c"
   }
  }
 },
 "nbformat": 4,
 "nbformat_minor": 2
}
